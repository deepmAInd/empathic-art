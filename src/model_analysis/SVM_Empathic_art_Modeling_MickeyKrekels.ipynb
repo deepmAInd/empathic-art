{
 "cells": [
  {
   "cell_type": "markdown",
   "metadata": {},
   "source": [
    "# Empathic Art- SVM modeling\n",
    "by Mickey Krekels \n",
    "\n",
    "## Loading imports"
   ]
  },
  {
   "cell_type": "code",
   "execution_count": 38,
   "metadata": {},
   "outputs": [],
   "source": [
    "# import pandas\n",
    "import pandas as pd\n",
    "\n",
    "# import numpy\n",
    "import numpy as np\n",
    "\n",
    "# import matplotlib\n",
    "import matplotlib.pyplot as plt\n",
    "\n",
    "# import plotly\n",
    "import plotly.express as px\n",
    "\n",
    "# import os \n",
    "from os import listdir\n",
    "from os.path import isfile, join\n",
    "\n",
    "# import librosa\n",
    "import cv2\n",
    "import librosa\n",
    "import librosa.display\n",
    "\n",
    "# import tensorflow\n",
    "import tensorflow as tf\n",
    "from tensorflow import keras\n",
    "from tensorflow.keras import layers\n",
    "from tensorflow.keras.models import Sequential\n",
    "\n",
    "import torch\n",
    "import torch.nn as nn\n",
    "from torch.autograd import Variable\n",
    "from sklearn.model_selection import train_test_split\n",
    "from sklearn.metrics import accuracy_score\n",
    "from sklearn.metrics import classification_report\n",
    "\n",
    "\n",
    "from torch.utils.data import DataLoader, TensorDataset\n",
    "from tensorflow.keras.models import load_model\n",
    "from sklearn.svm import SVC\n",
    "\n",
    "\n",
    "\n",
    "\n",
    "# import PIL \n",
    "# this is needed for loading large images dataset \n",
    "import PIL \n",
    "import pathlib\n",
    "import shutil\n",
    "\n",
    "# import datetime\n",
    "from datetime import datetime\n",
    "\n",
    "#import os\n",
    "import os\n",
    "import pickle\n"
   ]
  },
  {
   "cell_type": "markdown",
   "metadata": {},
   "source": [
    "## Loading data\n",
    "This dataset is a combination of Dataset:\n",
    "\n",
    "- [Toronto emotional speech set (TESS) - Older talker_Happy](https://tspace.library.utoronto.ca/handle/1807/24501)<br>\n",
    "Author:<br>\n",
    "Dupuis, Kate; Pichora-Fuller, M. Kathleen\n",
    "- [The Ryerson Audio-Visual Database of Emotional Speech and Song (RAVDESS)](https://zenodo.org/record/1188976#.Y0e8o3ZBy3C)<br>\n",
    "Author:<br>\n",
    "Livingstone, Steven R., & Russo, Frank A.\n",
    "- [The variably intense vocalizations of affect and emotion (VIVAE)](https://pubmed.ncbi.nlm.nih.gov/35129996/)<br>\n",
    "Author:<br>\n",
    "Natalie Holz, Pauline Larrouy-Maestri, David Poeppel."
   ]
  },
  {
   "cell_type": "code",
   "execution_count": 2,
   "metadata": {},
   "outputs": [],
   "source": [
    "audio_data = {\n",
    "    \"Vivae\": \"../../data/VIVAE/core_set/\", \n",
    "    \"Ravdess\": \"../../data/RAVDESS/Audio_Speech_Actors/\", \n",
    "    \"Tess\": \"../../data/utoronto/data\",\n",
    "}"
   ]
  },
  {
   "cell_type": "markdown",
   "metadata": {},
   "source": [
    "Loading the dataframe"
   ]
  },
  {
   "cell_type": "code",
   "execution_count": 3,
   "metadata": {},
   "outputs": [
    {
     "data": {
      "text/html": [
       "<div>\n",
       "<style scoped>\n",
       "    .dataframe tbody tr th:only-of-type {\n",
       "        vertical-align: middle;\n",
       "    }\n",
       "\n",
       "    .dataframe tbody tr th {\n",
       "        vertical-align: top;\n",
       "    }\n",
       "\n",
       "    .dataframe thead th {\n",
       "        text-align: right;\n",
       "    }\n",
       "</style>\n",
       "<table border=\"1\" class=\"dataframe\">\n",
       "  <thead>\n",
       "    <tr style=\"text-align: right;\">\n",
       "      <th></th>\n",
       "      <th>file_name</th>\n",
       "      <th>Speaker</th>\n",
       "      <th>Emotion</th>\n",
       "      <th>Intensity</th>\n",
       "      <th>Dataframe</th>\n",
       "      <th>Duration</th>\n",
       "      <th>Word</th>\n",
       "      <th>Type</th>\n",
       "      <th>Gender</th>\n",
       "    </tr>\n",
       "  </thead>\n",
       "  <tbody>\n",
       "    <tr>\n",
       "      <th>0</th>\n",
       "      <td>S04_fear_peak_03.wav</td>\n",
       "      <td>S04</td>\n",
       "      <td>Fear</td>\n",
       "      <td>peak</td>\n",
       "      <td>VIVAE</td>\n",
       "      <td>0.752472</td>\n",
       "      <td>NaN</td>\n",
       "      <td>Sound</td>\n",
       "      <td>NaN</td>\n",
       "    </tr>\n",
       "    <tr>\n",
       "      <th>1</th>\n",
       "      <td>S09_pleasure_strong_08.wav</td>\n",
       "      <td>S09</td>\n",
       "      <td>Pleasure</td>\n",
       "      <td>strong</td>\n",
       "      <td>VIVAE</td>\n",
       "      <td>0.752472</td>\n",
       "      <td>NaN</td>\n",
       "      <td>Sound</td>\n",
       "      <td>NaN</td>\n",
       "    </tr>\n",
       "    <tr>\n",
       "      <th>2</th>\n",
       "      <td>S07_pleasure_peak_07.wav</td>\n",
       "      <td>S07</td>\n",
       "      <td>Pleasure</td>\n",
       "      <td>peak</td>\n",
       "      <td>VIVAE</td>\n",
       "      <td>0.672404</td>\n",
       "      <td>NaN</td>\n",
       "      <td>Sound</td>\n",
       "      <td>NaN</td>\n",
       "    </tr>\n",
       "    <tr>\n",
       "      <th>3</th>\n",
       "      <td>S04_pain_strong_08.wav</td>\n",
       "      <td>S04</td>\n",
       "      <td>Pain</td>\n",
       "      <td>strong</td>\n",
       "      <td>VIVAE</td>\n",
       "      <td>0.752472</td>\n",
       "      <td>NaN</td>\n",
       "      <td>Sound</td>\n",
       "      <td>NaN</td>\n",
       "    </tr>\n",
       "    <tr>\n",
       "      <th>4</th>\n",
       "      <td>S04_fear_strong_05.wav</td>\n",
       "      <td>S04</td>\n",
       "      <td>Fear</td>\n",
       "      <td>strong</td>\n",
       "      <td>VIVAE</td>\n",
       "      <td>0.672404</td>\n",
       "      <td>NaN</td>\n",
       "      <td>Sound</td>\n",
       "      <td>NaN</td>\n",
       "    </tr>\n",
       "    <tr>\n",
       "      <th>5</th>\n",
       "      <td>S08_pain_peak_01.wav</td>\n",
       "      <td>S08</td>\n",
       "      <td>Pain</td>\n",
       "      <td>peak</td>\n",
       "      <td>VIVAE</td>\n",
       "      <td>0.536463</td>\n",
       "      <td>NaN</td>\n",
       "      <td>Sound</td>\n",
       "      <td>NaN</td>\n",
       "    </tr>\n",
       "    <tr>\n",
       "      <th>6</th>\n",
       "      <td>S06_fear_moderate_03.wav</td>\n",
       "      <td>S06</td>\n",
       "      <td>Fear</td>\n",
       "      <td>moderate</td>\n",
       "      <td>VIVAE</td>\n",
       "      <td>0.752472</td>\n",
       "      <td>NaN</td>\n",
       "      <td>Sound</td>\n",
       "      <td>NaN</td>\n",
       "    </tr>\n",
       "    <tr>\n",
       "      <th>7</th>\n",
       "      <td>S09_pain_moderate_09.wav</td>\n",
       "      <td>S09</td>\n",
       "      <td>Pain</td>\n",
       "      <td>moderate</td>\n",
       "      <td>VIVAE</td>\n",
       "      <td>0.672404</td>\n",
       "      <td>NaN</td>\n",
       "      <td>Sound</td>\n",
       "      <td>NaN</td>\n",
       "    </tr>\n",
       "    <tr>\n",
       "      <th>8</th>\n",
       "      <td>S01_pain_moderate_04.wav</td>\n",
       "      <td>S01</td>\n",
       "      <td>Pain</td>\n",
       "      <td>moderate</td>\n",
       "      <td>VIVAE</td>\n",
       "      <td>0.536463</td>\n",
       "      <td>NaN</td>\n",
       "      <td>Sound</td>\n",
       "      <td>NaN</td>\n",
       "    </tr>\n",
       "    <tr>\n",
       "      <th>9</th>\n",
       "      <td>S07_surprise_strong_01.wav</td>\n",
       "      <td>S07</td>\n",
       "      <td>Surprise</td>\n",
       "      <td>strong</td>\n",
       "      <td>VIVAE</td>\n",
       "      <td>0.989025</td>\n",
       "      <td>NaN</td>\n",
       "      <td>Sound</td>\n",
       "      <td>NaN</td>\n",
       "    </tr>\n",
       "  </tbody>\n",
       "</table>\n",
       "</div>"
      ],
      "text/plain": [
       "                    file_name Speaker   Emotion Intensity Dataframe  Duration  \\\n",
       "0        S04_fear_peak_03.wav     S04      Fear      peak     VIVAE  0.752472   \n",
       "1  S09_pleasure_strong_08.wav     S09  Pleasure    strong     VIVAE  0.752472   \n",
       "2    S07_pleasure_peak_07.wav     S07  Pleasure      peak     VIVAE  0.672404   \n",
       "3      S04_pain_strong_08.wav     S04      Pain    strong     VIVAE  0.752472   \n",
       "4      S04_fear_strong_05.wav     S04      Fear    strong     VIVAE  0.672404   \n",
       "5        S08_pain_peak_01.wav     S08      Pain      peak     VIVAE  0.536463   \n",
       "6    S06_fear_moderate_03.wav     S06      Fear  moderate     VIVAE  0.752472   \n",
       "7    S09_pain_moderate_09.wav     S09      Pain  moderate     VIVAE  0.672404   \n",
       "8    S01_pain_moderate_04.wav     S01      Pain  moderate     VIVAE  0.536463   \n",
       "9  S07_surprise_strong_01.wav     S07  Surprise    strong     VIVAE  0.989025   \n",
       "\n",
       "  Word   Type Gender  \n",
       "0  NaN  Sound    NaN  \n",
       "1  NaN  Sound    NaN  \n",
       "2  NaN  Sound    NaN  \n",
       "3  NaN  Sound    NaN  \n",
       "4  NaN  Sound    NaN  \n",
       "5  NaN  Sound    NaN  \n",
       "6  NaN  Sound    NaN  \n",
       "7  NaN  Sound    NaN  \n",
       "8  NaN  Sound    NaN  \n",
       "9  NaN  Sound    NaN  "
      ]
     },
     "execution_count": 3,
     "metadata": {},
     "output_type": "execute_result"
    }
   ],
   "source": [
    "merged_data = \"../../data/merged_data.csv\"\n",
    "df = open(merged_data, \"r\")\n",
    "df = pd.read_csv(df)\n",
    "df.head(10)"
   ]
  },
  {
   "cell_type": "markdown",
   "metadata": {},
   "source": [
    "For this modeling phase were only interested in the columns filename and Emotion."
   ]
  },
  {
   "cell_type": "markdown",
   "metadata": {},
   "source": [
    "## Converting the audio files to Mel-spectograms and saving the result locally"
   ]
  },
  {
   "cell_type": "code",
   "execution_count": 4,
   "metadata": {},
   "outputs": [
    {
     "data": {
      "text/html": [
       "<div>\n",
       "<style scoped>\n",
       "    .dataframe tbody tr th:only-of-type {\n",
       "        vertical-align: middle;\n",
       "    }\n",
       "\n",
       "    .dataframe tbody tr th {\n",
       "        vertical-align: top;\n",
       "    }\n",
       "\n",
       "    .dataframe thead th {\n",
       "        text-align: right;\n",
       "    }\n",
       "</style>\n",
       "<table border=\"1\" class=\"dataframe\">\n",
       "  <thead>\n",
       "    <tr style=\"text-align: right;\">\n",
       "      <th></th>\n",
       "      <th>file_name</th>\n",
       "      <th>Speaker</th>\n",
       "      <th>Emotion</th>\n",
       "      <th>Intensity</th>\n",
       "      <th>Dataframe</th>\n",
       "      <th>Duration</th>\n",
       "      <th>Word</th>\n",
       "      <th>Type</th>\n",
       "      <th>Gender</th>\n",
       "    </tr>\n",
       "  </thead>\n",
       "  <tbody>\n",
       "    <tr>\n",
       "      <th>0</th>\n",
       "      <td>S04_fear_peak_03.wav</td>\n",
       "      <td>S04</td>\n",
       "      <td>Fear</td>\n",
       "      <td>peak</td>\n",
       "      <td>VIVAE</td>\n",
       "      <td>0.752472</td>\n",
       "      <td>NaN</td>\n",
       "      <td>Sound</td>\n",
       "      <td>NaN</td>\n",
       "    </tr>\n",
       "    <tr>\n",
       "      <th>1</th>\n",
       "      <td>S09_pleasure_strong_08.wav</td>\n",
       "      <td>S09</td>\n",
       "      <td>Pleasure</td>\n",
       "      <td>strong</td>\n",
       "      <td>VIVAE</td>\n",
       "      <td>0.752472</td>\n",
       "      <td>NaN</td>\n",
       "      <td>Sound</td>\n",
       "      <td>NaN</td>\n",
       "    </tr>\n",
       "    <tr>\n",
       "      <th>2</th>\n",
       "      <td>S07_pleasure_peak_07.wav</td>\n",
       "      <td>S07</td>\n",
       "      <td>Pleasure</td>\n",
       "      <td>peak</td>\n",
       "      <td>VIVAE</td>\n",
       "      <td>0.672404</td>\n",
       "      <td>NaN</td>\n",
       "      <td>Sound</td>\n",
       "      <td>NaN</td>\n",
       "    </tr>\n",
       "    <tr>\n",
       "      <th>3</th>\n",
       "      <td>S04_pain_strong_08.wav</td>\n",
       "      <td>S04</td>\n",
       "      <td>Pain</td>\n",
       "      <td>strong</td>\n",
       "      <td>VIVAE</td>\n",
       "      <td>0.752472</td>\n",
       "      <td>NaN</td>\n",
       "      <td>Sound</td>\n",
       "      <td>NaN</td>\n",
       "    </tr>\n",
       "    <tr>\n",
       "      <th>4</th>\n",
       "      <td>S04_fear_strong_05.wav</td>\n",
       "      <td>S04</td>\n",
       "      <td>Fear</td>\n",
       "      <td>strong</td>\n",
       "      <td>VIVAE</td>\n",
       "      <td>0.672404</td>\n",
       "      <td>NaN</td>\n",
       "      <td>Sound</td>\n",
       "      <td>NaN</td>\n",
       "    </tr>\n",
       "    <tr>\n",
       "      <th>...</th>\n",
       "      <td>...</td>\n",
       "      <td>...</td>\n",
       "      <td>...</td>\n",
       "      <td>...</td>\n",
       "      <td>...</td>\n",
       "      <td>...</td>\n",
       "      <td>...</td>\n",
       "      <td>...</td>\n",
       "      <td>...</td>\n",
       "    </tr>\n",
       "    <tr>\n",
       "      <th>475</th>\n",
       "      <td>S05_pleasure_moderate_10.wav</td>\n",
       "      <td>S05</td>\n",
       "      <td>Pleasure</td>\n",
       "      <td>moderate</td>\n",
       "      <td>VIVAE</td>\n",
       "      <td>0.505011</td>\n",
       "      <td>NaN</td>\n",
       "      <td>Sound</td>\n",
       "      <td>NaN</td>\n",
       "    </tr>\n",
       "    <tr>\n",
       "      <th>476</th>\n",
       "      <td>S08_surprise_moderate_07.wav</td>\n",
       "      <td>S08</td>\n",
       "      <td>Surprise</td>\n",
       "      <td>moderate</td>\n",
       "      <td>VIVAE</td>\n",
       "      <td>1.158889</td>\n",
       "      <td>NaN</td>\n",
       "      <td>Sound</td>\n",
       "      <td>NaN</td>\n",
       "    </tr>\n",
       "    <tr>\n",
       "      <th>477</th>\n",
       "      <td>S05_surprise_low_02.wav</td>\n",
       "      <td>S05</td>\n",
       "      <td>Surprise</td>\n",
       "      <td>low</td>\n",
       "      <td>VIVAE</td>\n",
       "      <td>1.880295</td>\n",
       "      <td>NaN</td>\n",
       "      <td>Sound</td>\n",
       "      <td>NaN</td>\n",
       "    </tr>\n",
       "    <tr>\n",
       "      <th>478</th>\n",
       "      <td>S09_pleasure_peak_102.wav</td>\n",
       "      <td>S09</td>\n",
       "      <td>Pleasure</td>\n",
       "      <td>peak</td>\n",
       "      <td>VIVAE</td>\n",
       "      <td>0.837800</td>\n",
       "      <td>NaN</td>\n",
       "      <td>Sound</td>\n",
       "      <td>NaN</td>\n",
       "    </tr>\n",
       "    <tr>\n",
       "      <th>479</th>\n",
       "      <td>S03_pain_low_09.wav</td>\n",
       "      <td>S03</td>\n",
       "      <td>Pain</td>\n",
       "      <td>low</td>\n",
       "      <td>VIVAE</td>\n",
       "      <td>0.805351</td>\n",
       "      <td>NaN</td>\n",
       "      <td>Sound</td>\n",
       "      <td>NaN</td>\n",
       "    </tr>\n",
       "  </tbody>\n",
       "</table>\n",
       "<p>480 rows × 9 columns</p>\n",
       "</div>"
      ],
      "text/plain": [
       "                        file_name Speaker   Emotion Intensity Dataframe  \\\n",
       "0            S04_fear_peak_03.wav     S04      Fear      peak     VIVAE   \n",
       "1      S09_pleasure_strong_08.wav     S09  Pleasure    strong     VIVAE   \n",
       "2        S07_pleasure_peak_07.wav     S07  Pleasure      peak     VIVAE   \n",
       "3          S04_pain_strong_08.wav     S04      Pain    strong     VIVAE   \n",
       "4          S04_fear_strong_05.wav     S04      Fear    strong     VIVAE   \n",
       "..                            ...     ...       ...       ...       ...   \n",
       "475  S05_pleasure_moderate_10.wav     S05  Pleasure  moderate     VIVAE   \n",
       "476  S08_surprise_moderate_07.wav     S08  Surprise  moderate     VIVAE   \n",
       "477       S05_surprise_low_02.wav     S05  Surprise       low     VIVAE   \n",
       "478     S09_pleasure_peak_102.wav     S09  Pleasure      peak     VIVAE   \n",
       "479           S03_pain_low_09.wav     S03      Pain       low     VIVAE   \n",
       "\n",
       "     Duration Word   Type Gender  \n",
       "0    0.752472  NaN  Sound    NaN  \n",
       "1    0.752472  NaN  Sound    NaN  \n",
       "2    0.672404  NaN  Sound    NaN  \n",
       "3    0.752472  NaN  Sound    NaN  \n",
       "4    0.672404  NaN  Sound    NaN  \n",
       "..        ...  ...    ...    ...  \n",
       "475  0.505011  NaN  Sound    NaN  \n",
       "476  1.158889  NaN  Sound    NaN  \n",
       "477  1.880295  NaN  Sound    NaN  \n",
       "478  0.837800  NaN  Sound    NaN  \n",
       "479  0.805351  NaN  Sound    NaN  \n",
       "\n",
       "[480 rows x 9 columns]"
      ]
     },
     "execution_count": 4,
     "metadata": {},
     "output_type": "execute_result"
    }
   ],
   "source": [
    "vivae_df = df.loc[df[\"Dataframe\"] == \"VIVAE\"]\n",
    "vivae_df"
   ]
  },
  {
   "cell_type": "code",
   "execution_count": 5,
   "metadata": {},
   "outputs": [
    {
     "data": {
      "text/plain": [
       "3280"
      ]
     },
     "execution_count": 5,
     "metadata": {},
     "output_type": "execute_result"
    }
   ],
   "source": [
    "saving_path = \"C:/Users/micke/Desktop/Fontys/S7/Group_project/dataset_merged_local_save/\"\n",
    "\n",
    "audio_file_path_list = []\n",
    "\n",
    "vivae_df = df[df[\"Dataframe\"] == \"VIVAE\"]\n",
    "tess_df = df[df[\"Dataframe\"] == \"TESS\"]\n",
    "# ravedess_df = df[df[\"Dataframe\"] == \"RAVEDESS\"]\n",
    "\n",
    "\n",
    "for index, row in vivae_df.iterrows():\n",
    "    audio_file_path_list.append(audio_data[\"Vivae\"] + \"/\" + row[\"file_name\"])\n",
    "\n",
    "for index, row in tess_df.iterrows():\n",
    "    audio_file_path_list.append(audio_data[\"Tess\"] + \"/\" + row[\"file_name\"])\n",
    "\n",
    "# for index, row in ravedess_df.iterrows():\n",
    "\n",
    "#     path = audio_data[\"Ravdess\"]+ \"Actor_\" + \"/\" + row[\"file_name\"]\n",
    "#     audio_file_path_list.append(audio_data[\"Ravdess\"] + \"/\" + row[\"file_name\"])\n",
    "\n",
    "# for filename in os.listdir(audio_data[\"Ravdess\"]):\n",
    "#     f = os.path.join(audio_data[\"Ravdess\"], filename)\n",
    "#     # checking if it is a file\n",
    "\n",
    "\n",
    "\n",
    "len(audio_file_path_list)"
   ]
  },
  {
   "cell_type": "code",
   "execution_count": 6,
   "metadata": {},
   "outputs": [
    {
     "data": {
      "text/html": [
       "<div>\n",
       "<style scoped>\n",
       "    .dataframe tbody tr th:only-of-type {\n",
       "        vertical-align: middle;\n",
       "    }\n",
       "\n",
       "    .dataframe tbody tr th {\n",
       "        vertical-align: top;\n",
       "    }\n",
       "\n",
       "    .dataframe thead th {\n",
       "        text-align: right;\n",
       "    }\n",
       "</style>\n",
       "<table border=\"1\" class=\"dataframe\">\n",
       "  <thead>\n",
       "    <tr style=\"text-align: right;\">\n",
       "      <th></th>\n",
       "      <th>file_name</th>\n",
       "      <th>Speaker</th>\n",
       "      <th>Emotion</th>\n",
       "      <th>Intensity</th>\n",
       "      <th>Dataframe</th>\n",
       "      <th>Duration</th>\n",
       "      <th>Word</th>\n",
       "      <th>Type</th>\n",
       "      <th>Gender</th>\n",
       "      <th>sound_path</th>\n",
       "    </tr>\n",
       "  </thead>\n",
       "  <tbody>\n",
       "    <tr>\n",
       "      <th>0</th>\n",
       "      <td>S04_fear_peak_03.wav</td>\n",
       "      <td>S04</td>\n",
       "      <td>Fear</td>\n",
       "      <td>peak</td>\n",
       "      <td>VIVAE</td>\n",
       "      <td>0.752472</td>\n",
       "      <td>NaN</td>\n",
       "      <td>Sound</td>\n",
       "      <td>NaN</td>\n",
       "      <td>../../data/VIVAE/core_set//S04_fear_peak_03.wav</td>\n",
       "    </tr>\n",
       "    <tr>\n",
       "      <th>1</th>\n",
       "      <td>S09_pleasure_strong_08.wav</td>\n",
       "      <td>S09</td>\n",
       "      <td>Pleasure</td>\n",
       "      <td>strong</td>\n",
       "      <td>VIVAE</td>\n",
       "      <td>0.752472</td>\n",
       "      <td>NaN</td>\n",
       "      <td>Sound</td>\n",
       "      <td>NaN</td>\n",
       "      <td>../../data/VIVAE/core_set//S09_pleasure_strong...</td>\n",
       "    </tr>\n",
       "    <tr>\n",
       "      <th>2</th>\n",
       "      <td>S07_pleasure_peak_07.wav</td>\n",
       "      <td>S07</td>\n",
       "      <td>Pleasure</td>\n",
       "      <td>peak</td>\n",
       "      <td>VIVAE</td>\n",
       "      <td>0.672404</td>\n",
       "      <td>NaN</td>\n",
       "      <td>Sound</td>\n",
       "      <td>NaN</td>\n",
       "      <td>../../data/VIVAE/core_set//S07_pleasure_peak_0...</td>\n",
       "    </tr>\n",
       "    <tr>\n",
       "      <th>3</th>\n",
       "      <td>S04_pain_strong_08.wav</td>\n",
       "      <td>S04</td>\n",
       "      <td>Pain</td>\n",
       "      <td>strong</td>\n",
       "      <td>VIVAE</td>\n",
       "      <td>0.752472</td>\n",
       "      <td>NaN</td>\n",
       "      <td>Sound</td>\n",
       "      <td>NaN</td>\n",
       "      <td>../../data/VIVAE/core_set//S04_pain_strong_08.wav</td>\n",
       "    </tr>\n",
       "    <tr>\n",
       "      <th>4</th>\n",
       "      <td>S04_fear_strong_05.wav</td>\n",
       "      <td>S04</td>\n",
       "      <td>Fear</td>\n",
       "      <td>strong</td>\n",
       "      <td>VIVAE</td>\n",
       "      <td>0.672404</td>\n",
       "      <td>NaN</td>\n",
       "      <td>Sound</td>\n",
       "      <td>NaN</td>\n",
       "      <td>../../data/VIVAE/core_set//S04_fear_strong_05.wav</td>\n",
       "    </tr>\n",
       "    <tr>\n",
       "      <th>...</th>\n",
       "      <td>...</td>\n",
       "      <td>...</td>\n",
       "      <td>...</td>\n",
       "      <td>...</td>\n",
       "      <td>...</td>\n",
       "      <td>...</td>\n",
       "      <td>...</td>\n",
       "      <td>...</td>\n",
       "      <td>...</td>\n",
       "      <td>...</td>\n",
       "    </tr>\n",
       "    <tr>\n",
       "      <th>3275</th>\n",
       "      <td>YAF_tough_happy.wav</td>\n",
       "      <td>YAF</td>\n",
       "      <td>Happy</td>\n",
       "      <td>Moderate</td>\n",
       "      <td>TESS</td>\n",
       "      <td>1.866019</td>\n",
       "      <td>tough</td>\n",
       "      <td>Non-Sound</td>\n",
       "      <td>NaN</td>\n",
       "      <td>../../data/utoronto/data/YAF_tough_happy.wav</td>\n",
       "    </tr>\n",
       "    <tr>\n",
       "      <th>3276</th>\n",
       "      <td>OAF_nice_angry.wav</td>\n",
       "      <td>OAF</td>\n",
       "      <td>angry</td>\n",
       "      <td>Moderate</td>\n",
       "      <td>TESS</td>\n",
       "      <td>2.275907</td>\n",
       "      <td>nice</td>\n",
       "      <td>Non-Sound</td>\n",
       "      <td>NaN</td>\n",
       "      <td>../../data/utoronto/data/OAF_nice_angry.wav</td>\n",
       "    </tr>\n",
       "    <tr>\n",
       "      <th>3277</th>\n",
       "      <td>YAF_gap_ps.wav</td>\n",
       "      <td>YAF</td>\n",
       "      <td>ps</td>\n",
       "      <td>Moderate</td>\n",
       "      <td>TESS</td>\n",
       "      <td>1.652535</td>\n",
       "      <td>gap</td>\n",
       "      <td>Non-Sound</td>\n",
       "      <td>NaN</td>\n",
       "      <td>../../data/utoronto/data/YAF_gap_ps.wav</td>\n",
       "    </tr>\n",
       "    <tr>\n",
       "      <th>3278</th>\n",
       "      <td>OAF_phone_fear.wav</td>\n",
       "      <td>OAF</td>\n",
       "      <td>Fear</td>\n",
       "      <td>Moderate</td>\n",
       "      <td>TESS</td>\n",
       "      <td>2.189645</td>\n",
       "      <td>phone</td>\n",
       "      <td>Non-Sound</td>\n",
       "      <td>NaN</td>\n",
       "      <td>../../data/utoronto/data/OAF_phone_fear.wav</td>\n",
       "    </tr>\n",
       "    <tr>\n",
       "      <th>3279</th>\n",
       "      <td>OAF_soup_neutral.wav</td>\n",
       "      <td>OAF</td>\n",
       "      <td>Calm</td>\n",
       "      <td>Moderate</td>\n",
       "      <td>TESS</td>\n",
       "      <td>2.020111</td>\n",
       "      <td>soup</td>\n",
       "      <td>Non-Sound</td>\n",
       "      <td>NaN</td>\n",
       "      <td>../../data/utoronto/data/OAF_soup_neutral.wav</td>\n",
       "    </tr>\n",
       "  </tbody>\n",
       "</table>\n",
       "<p>3280 rows × 10 columns</p>\n",
       "</div>"
      ],
      "text/plain": [
       "                       file_name Speaker   Emotion Intensity Dataframe  \\\n",
       "0           S04_fear_peak_03.wav     S04      Fear      peak     VIVAE   \n",
       "1     S09_pleasure_strong_08.wav     S09  Pleasure    strong     VIVAE   \n",
       "2       S07_pleasure_peak_07.wav     S07  Pleasure      peak     VIVAE   \n",
       "3         S04_pain_strong_08.wav     S04      Pain    strong     VIVAE   \n",
       "4         S04_fear_strong_05.wav     S04      Fear    strong     VIVAE   \n",
       "...                          ...     ...       ...       ...       ...   \n",
       "3275         YAF_tough_happy.wav     YAF     Happy  Moderate      TESS   \n",
       "3276          OAF_nice_angry.wav     OAF     angry  Moderate      TESS   \n",
       "3277              YAF_gap_ps.wav     YAF        ps  Moderate      TESS   \n",
       "3278          OAF_phone_fear.wav     OAF      Fear  Moderate      TESS   \n",
       "3279        OAF_soup_neutral.wav     OAF      Calm  Moderate      TESS   \n",
       "\n",
       "      Duration   Word       Type Gender  \\\n",
       "0     0.752472    NaN      Sound    NaN   \n",
       "1     0.752472    NaN      Sound    NaN   \n",
       "2     0.672404    NaN      Sound    NaN   \n",
       "3     0.752472    NaN      Sound    NaN   \n",
       "4     0.672404    NaN      Sound    NaN   \n",
       "...        ...    ...        ...    ...   \n",
       "3275  1.866019  tough  Non-Sound    NaN   \n",
       "3276  2.275907   nice  Non-Sound    NaN   \n",
       "3277  1.652535    gap  Non-Sound    NaN   \n",
       "3278  2.189645  phone  Non-Sound    NaN   \n",
       "3279  2.020111   soup  Non-Sound    NaN   \n",
       "\n",
       "                                             sound_path  \n",
       "0       ../../data/VIVAE/core_set//S04_fear_peak_03.wav  \n",
       "1     ../../data/VIVAE/core_set//S09_pleasure_strong...  \n",
       "2     ../../data/VIVAE/core_set//S07_pleasure_peak_0...  \n",
       "3     ../../data/VIVAE/core_set//S04_pain_strong_08.wav  \n",
       "4     ../../data/VIVAE/core_set//S04_fear_strong_05.wav  \n",
       "...                                                 ...  \n",
       "3275       ../../data/utoronto/data/YAF_tough_happy.wav  \n",
       "3276        ../../data/utoronto/data/OAF_nice_angry.wav  \n",
       "3277            ../../data/utoronto/data/YAF_gap_ps.wav  \n",
       "3278        ../../data/utoronto/data/OAF_phone_fear.wav  \n",
       "3279      ../../data/utoronto/data/OAF_soup_neutral.wav  \n",
       "\n",
       "[3280 rows x 10 columns]"
      ]
     },
     "execution_count": 6,
     "metadata": {},
     "output_type": "execute_result"
    }
   ],
   "source": [
    "frames = [vivae_df, tess_df]\n",
    "df = pd.concat(frames)\n",
    "df[\"sound_path\"] = audio_file_path_list\n",
    "df"
   ]
  },
  {
   "cell_type": "markdown",
   "metadata": {},
   "source": [
    "Converting the sound files to mel-spectrograms "
   ]
  },
  {
   "cell_type": "code",
   "execution_count": 7,
   "metadata": {},
   "outputs": [],
   "source": [
    "# for index, row in df.iterrows():\n",
    "#     # load audio file\n",
    "#     path = row[\"sound_path\"]\n",
    "#     x, sr = librosa.load(path, sr=44100)\n",
    "#     # compute mel-spectrogram\n",
    "#     melspectrum = librosa.feature.melspectrogram(y=x, sr=sr, hop_length= 512, window='hann', n_mels=256)\n",
    "#     # convert to decibels\n",
    "#     S_dB = librosa.power_to_db(melspectrum, ref=np.max)\n",
    "#     # convert plot to image\n",
    "#     img = librosa.display.specshow(S_dB)\n",
    "#     # save image to disk\n",
    "#     img.figure.savefig(saving_path + \"/\"+ row['file_name'] +'.png')\n",
    "#     plt.close()"
   ]
  },
  {
   "cell_type": "code",
   "execution_count": 8,
   "metadata": {},
   "outputs": [],
   "source": [
    "image_path_list = []\n",
    "for index, row in df.iterrows():\n",
    "    image_path_list.append(saving_path + \"/\"+ row['file_name'] +'.png')\n",
    "\n",
    "df[\"image_path\"] = image_path_list"
   ]
  },
  {
   "cell_type": "markdown",
   "metadata": {},
   "source": [
    "## Saving to Tensorflow format"
   ]
  },
  {
   "cell_type": "code",
   "execution_count": 9,
   "metadata": {},
   "outputs": [
    {
     "name": "stdout",
     "output_type": "stream",
     "text": [
      "['Fear' 'Pleasure' 'Pain' 'Surprise' 'Angry' 'Achievement' 'Calm' 'Sad'\n",
      " 'Happy' 'ps' 'Disgust' 'angry']\n"
     ]
    }
   ],
   "source": [
    "class_names = df[\"Emotion\"].unique()\n",
    "print(class_names)"
   ]
  },
  {
   "cell_type": "code",
   "execution_count": 10,
   "metadata": {},
   "outputs": [
    {
     "name": "stdout",
     "output_type": "stream",
     "text": [
      "['Fear' 'Pleasure' 'Pain' 'Surprise' 'Angry' 'Achievement' 'Calm' 'Sad'\n",
      " 'Happy' 'Disgust']\n"
     ]
    }
   ],
   "source": [
    "#remane Emotion value ps to suprise\n",
    "df[\"Emotion\"] = df[\"Emotion\"].replace(\"ps\", \"Surprise\")\n",
    "df[\"Emotion\"] = df[\"Emotion\"].replace(\"angry\", \"Angry\")\n",
    "class_names = df[\"Emotion\"].unique()\n",
    "print(class_names)"
   ]
  },
  {
   "cell_type": "code",
   "execution_count": 11,
   "metadata": {},
   "outputs": [
    {
     "data": {
      "text/plain": [
       "Fear           480\n",
       "Surprise       480\n",
       "Angry          480\n",
       "Calm           400\n",
       "Sad            400\n",
       "Happy          400\n",
       "Disgust        400\n",
       "Pleasure        80\n",
       "Pain            80\n",
       "Achievement     80\n",
       "Name: Emotion, dtype: int64"
      ]
     },
     "execution_count": 11,
     "metadata": {},
     "output_type": "execute_result"
    }
   ],
   "source": [
    "unique_count = df['Emotion'].value_counts()\n",
    "unique_count"
   ]
  },
  {
   "cell_type": "markdown",
   "metadata": {},
   "source": [
    "The values **Pleasure, Pain and Achievement** are not going to be used for this model. There are only 80 labels aviable and that is not enough for training a network."
   ]
  },
  {
   "cell_type": "code",
   "execution_count": 12,
   "metadata": {},
   "outputs": [
    {
     "data": {
      "text/plain": [
       "Fear        480\n",
       "Surprise    480\n",
       "Angry       480\n",
       "Calm        400\n",
       "Sad         400\n",
       "Happy       400\n",
       "Disgust     400\n",
       "Name: Emotion, dtype: int64"
      ]
     },
     "execution_count": 12,
     "metadata": {},
     "output_type": "execute_result"
    }
   ],
   "source": [
    "df = df.loc[df[\"Emotion\"] != 'Pleasure' ]\n",
    "df = df.loc[df[\"Emotion\"] != 'Pain' ]\n",
    "df = df.loc[df[\"Emotion\"] != 'Achievement' ]\n",
    "\n",
    "unique_count = df['Emotion'].value_counts()\n",
    "unique_count"
   ]
  },
  {
   "cell_type": "code",
   "execution_count": 13,
   "metadata": {},
   "outputs": [
    {
     "data": {
      "text/plain": [
       "array(['Fear', 'Surprise', 'Angry', 'Calm', 'Sad', 'Happy', 'Disgust'],\n",
       "      dtype=object)"
      ]
     },
     "execution_count": 13,
     "metadata": {},
     "output_type": "execute_result"
    }
   ],
   "source": [
    "class_names = df[\"Emotion\"].unique()\n",
    "class_names"
   ]
  },
  {
   "cell_type": "markdown",
   "metadata": {},
   "source": [
    "In total we have 7 label types"
   ]
  },
  {
   "cell_type": "code",
   "execution_count": 14,
   "metadata": {},
   "outputs": [
    {
     "data": {
      "text/plain": [
       "7"
      ]
     },
     "execution_count": 14,
     "metadata": {},
     "output_type": "execute_result"
    }
   ],
   "source": [
    "len(unique_count)"
   ]
  },
  {
   "cell_type": "markdown",
   "metadata": {},
   "source": [
    "Where using this helper function below to save the spectogram into there correct folders\n",
    "            "
   ]
  },
  {
   "cell_type": "code",
   "execution_count": 15,
   "metadata": {},
   "outputs": [],
   "source": [
    "def df_to_tensorflow_dataset(copy_dir,df,labels):\n",
    "    dfs = []\n",
    "\n",
    "    for label in labels:\n",
    "        dfs.append(df[df['Emotion'] == label])\n",
    "\n",
    "    for df_split in dfs:\n",
    "\n",
    "        for index, row in df_split.iterrows():\n",
    "            label = row['Emotion']\n",
    "            path = row['image_path']\n",
    "            shutil.copy(path, copy_dir + label + \"/\")"
   ]
  },
  {
   "cell_type": "markdown",
   "metadata": {},
   "source": [
    "We suffle the dataset"
   ]
  },
  {
   "cell_type": "code",
   "execution_count": 16,
   "metadata": {},
   "outputs": [
    {
     "data": {
      "text/html": [
       "<div>\n",
       "<style scoped>\n",
       "    .dataframe tbody tr th:only-of-type {\n",
       "        vertical-align: middle;\n",
       "    }\n",
       "\n",
       "    .dataframe tbody tr th {\n",
       "        vertical-align: top;\n",
       "    }\n",
       "\n",
       "    .dataframe thead th {\n",
       "        text-align: right;\n",
       "    }\n",
       "</style>\n",
       "<table border=\"1\" class=\"dataframe\">\n",
       "  <thead>\n",
       "    <tr style=\"text-align: right;\">\n",
       "      <th></th>\n",
       "      <th>file_name</th>\n",
       "      <th>Speaker</th>\n",
       "      <th>Emotion</th>\n",
       "      <th>Intensity</th>\n",
       "      <th>Dataframe</th>\n",
       "      <th>Duration</th>\n",
       "      <th>Word</th>\n",
       "      <th>Type</th>\n",
       "      <th>Gender</th>\n",
       "      <th>sound_path</th>\n",
       "      <th>image_path</th>\n",
       "    </tr>\n",
       "  </thead>\n",
       "  <tbody>\n",
       "    <tr>\n",
       "      <th>0</th>\n",
       "      <td>OAF_cause_angry.wav</td>\n",
       "      <td>OAF</td>\n",
       "      <td>Angry</td>\n",
       "      <td>Moderate</td>\n",
       "      <td>TESS</td>\n",
       "      <td>2.293274</td>\n",
       "      <td>cause</td>\n",
       "      <td>Non-Sound</td>\n",
       "      <td>NaN</td>\n",
       "      <td>../../data/utoronto/data/OAF_cause_angry.wav</td>\n",
       "      <td>C:/Users/micke/Desktop/Fontys/S7/Group_project...</td>\n",
       "    </tr>\n",
       "    <tr>\n",
       "      <th>1</th>\n",
       "      <td>YAF_bite_angry.wav</td>\n",
       "      <td>YAF</td>\n",
       "      <td>Angry</td>\n",
       "      <td>Moderate</td>\n",
       "      <td>TESS</td>\n",
       "      <td>1.704473</td>\n",
       "      <td>bite</td>\n",
       "      <td>Non-Sound</td>\n",
       "      <td>NaN</td>\n",
       "      <td>../../data/utoronto/data/YAF_bite_angry.wav</td>\n",
       "      <td>C:/Users/micke/Desktop/Fontys/S7/Group_project...</td>\n",
       "    </tr>\n",
       "    <tr>\n",
       "      <th>2</th>\n",
       "      <td>YAF_reach_neutral.wav</td>\n",
       "      <td>YAF</td>\n",
       "      <td>Calm</td>\n",
       "      <td>Moderate</td>\n",
       "      <td>TESS</td>\n",
       "      <td>2.281887</td>\n",
       "      <td>reach</td>\n",
       "      <td>Non-Sound</td>\n",
       "      <td>NaN</td>\n",
       "      <td>../../data/utoronto/data/YAF_reach_neutral.wav</td>\n",
       "      <td>C:/Users/micke/Desktop/Fontys/S7/Group_project...</td>\n",
       "    </tr>\n",
       "    <tr>\n",
       "      <th>3</th>\n",
       "      <td>OAF_moon_disgust.wav</td>\n",
       "      <td>OAF</td>\n",
       "      <td>Disgust</td>\n",
       "      <td>Moderate</td>\n",
       "      <td>TESS</td>\n",
       "      <td>1.652535</td>\n",
       "      <td>moon</td>\n",
       "      <td>Non-Sound</td>\n",
       "      <td>NaN</td>\n",
       "      <td>../../data/utoronto/data/OAF_moon_disgust.wav</td>\n",
       "      <td>C:/Users/micke/Desktop/Fontys/S7/Group_project...</td>\n",
       "    </tr>\n",
       "    <tr>\n",
       "      <th>4</th>\n",
       "      <td>YAF_hire_fear.wav</td>\n",
       "      <td>YAF</td>\n",
       "      <td>Fear</td>\n",
       "      <td>Moderate</td>\n",
       "      <td>TESS</td>\n",
       "      <td>2.200172</td>\n",
       "      <td>hire</td>\n",
       "      <td>Non-Sound</td>\n",
       "      <td>NaN</td>\n",
       "      <td>../../data/utoronto/data/YAF_hire_fear.wav</td>\n",
       "      <td>C:/Users/micke/Desktop/Fontys/S7/Group_project...</td>\n",
       "    </tr>\n",
       "    <tr>\n",
       "      <th>...</th>\n",
       "      <td>...</td>\n",
       "      <td>...</td>\n",
       "      <td>...</td>\n",
       "      <td>...</td>\n",
       "      <td>...</td>\n",
       "      <td>...</td>\n",
       "      <td>...</td>\n",
       "      <td>...</td>\n",
       "      <td>...</td>\n",
       "      <td>...</td>\n",
       "      <td>...</td>\n",
       "    </tr>\n",
       "    <tr>\n",
       "      <th>3035</th>\n",
       "      <td>YAF_jug_neutral.wav</td>\n",
       "      <td>YAF</td>\n",
       "      <td>Calm</td>\n",
       "      <td>Moderate</td>\n",
       "      <td>TESS</td>\n",
       "      <td>2.275907</td>\n",
       "      <td>jug</td>\n",
       "      <td>Non-Sound</td>\n",
       "      <td>NaN</td>\n",
       "      <td>../../data/utoronto/data/YAF_jug_neutral.wav</td>\n",
       "      <td>C:/Users/micke/Desktop/Fontys/S7/Group_project...</td>\n",
       "    </tr>\n",
       "    <tr>\n",
       "      <th>3036</th>\n",
       "      <td>YAF_lease_angry.wav</td>\n",
       "      <td>YAF</td>\n",
       "      <td>Angry</td>\n",
       "      <td>Moderate</td>\n",
       "      <td>TESS</td>\n",
       "      <td>2.051159</td>\n",
       "      <td>lease</td>\n",
       "      <td>Non-Sound</td>\n",
       "      <td>NaN</td>\n",
       "      <td>../../data/utoronto/data/YAF_lease_angry.wav</td>\n",
       "      <td>C:/Users/micke/Desktop/Fontys/S7/Group_project...</td>\n",
       "    </tr>\n",
       "    <tr>\n",
       "      <th>3037</th>\n",
       "      <td>YAF_youth_fear.wav</td>\n",
       "      <td>YAF</td>\n",
       "      <td>Fear</td>\n",
       "      <td>Moderate</td>\n",
       "      <td>TESS</td>\n",
       "      <td>1.939215</td>\n",
       "      <td>youth</td>\n",
       "      <td>Non-Sound</td>\n",
       "      <td>NaN</td>\n",
       "      <td>../../data/utoronto/data/YAF_youth_fear.wav</td>\n",
       "      <td>C:/Users/micke/Desktop/Fontys/S7/Group_project...</td>\n",
       "    </tr>\n",
       "    <tr>\n",
       "      <th>3038</th>\n",
       "      <td>OAF_rain_sad.wav</td>\n",
       "      <td>OAF</td>\n",
       "      <td>Sad</td>\n",
       "      <td>Moderate</td>\n",
       "      <td>TESS</td>\n",
       "      <td>2.714017</td>\n",
       "      <td>rain</td>\n",
       "      <td>Non-Sound</td>\n",
       "      <td>NaN</td>\n",
       "      <td>../../data/utoronto/data/OAF_rain_sad.wav</td>\n",
       "      <td>C:/Users/micke/Desktop/Fontys/S7/Group_project...</td>\n",
       "    </tr>\n",
       "    <tr>\n",
       "      <th>3039</th>\n",
       "      <td>YAF_jug_angry.wav</td>\n",
       "      <td>YAF</td>\n",
       "      <td>Angry</td>\n",
       "      <td>Moderate</td>\n",
       "      <td>TESS</td>\n",
       "      <td>1.813345</td>\n",
       "      <td>jug</td>\n",
       "      <td>Non-Sound</td>\n",
       "      <td>NaN</td>\n",
       "      <td>../../data/utoronto/data/YAF_jug_angry.wav</td>\n",
       "      <td>C:/Users/micke/Desktop/Fontys/S7/Group_project...</td>\n",
       "    </tr>\n",
       "  </tbody>\n",
       "</table>\n",
       "<p>3040 rows × 11 columns</p>\n",
       "</div>"
      ],
      "text/plain": [
       "                  file_name Speaker  Emotion Intensity Dataframe  Duration  \\\n",
       "0       OAF_cause_angry.wav     OAF    Angry  Moderate      TESS  2.293274   \n",
       "1        YAF_bite_angry.wav     YAF    Angry  Moderate      TESS  1.704473   \n",
       "2     YAF_reach_neutral.wav     YAF     Calm  Moderate      TESS  2.281887   \n",
       "3      OAF_moon_disgust.wav     OAF  Disgust  Moderate      TESS  1.652535   \n",
       "4         YAF_hire_fear.wav     YAF     Fear  Moderate      TESS  2.200172   \n",
       "...                     ...     ...      ...       ...       ...       ...   \n",
       "3035    YAF_jug_neutral.wav     YAF     Calm  Moderate      TESS  2.275907   \n",
       "3036    YAF_lease_angry.wav     YAF    Angry  Moderate      TESS  2.051159   \n",
       "3037     YAF_youth_fear.wav     YAF     Fear  Moderate      TESS  1.939215   \n",
       "3038       OAF_rain_sad.wav     OAF      Sad  Moderate      TESS  2.714017   \n",
       "3039      YAF_jug_angry.wav     YAF    Angry  Moderate      TESS  1.813345   \n",
       "\n",
       "       Word       Type Gender                                      sound_path  \\\n",
       "0     cause  Non-Sound    NaN    ../../data/utoronto/data/OAF_cause_angry.wav   \n",
       "1      bite  Non-Sound    NaN     ../../data/utoronto/data/YAF_bite_angry.wav   \n",
       "2     reach  Non-Sound    NaN  ../../data/utoronto/data/YAF_reach_neutral.wav   \n",
       "3      moon  Non-Sound    NaN   ../../data/utoronto/data/OAF_moon_disgust.wav   \n",
       "4      hire  Non-Sound    NaN      ../../data/utoronto/data/YAF_hire_fear.wav   \n",
       "...     ...        ...    ...                                             ...   \n",
       "3035    jug  Non-Sound    NaN    ../../data/utoronto/data/YAF_jug_neutral.wav   \n",
       "3036  lease  Non-Sound    NaN    ../../data/utoronto/data/YAF_lease_angry.wav   \n",
       "3037  youth  Non-Sound    NaN     ../../data/utoronto/data/YAF_youth_fear.wav   \n",
       "3038   rain  Non-Sound    NaN       ../../data/utoronto/data/OAF_rain_sad.wav   \n",
       "3039    jug  Non-Sound    NaN      ../../data/utoronto/data/YAF_jug_angry.wav   \n",
       "\n",
       "                                             image_path  \n",
       "0     C:/Users/micke/Desktop/Fontys/S7/Group_project...  \n",
       "1     C:/Users/micke/Desktop/Fontys/S7/Group_project...  \n",
       "2     C:/Users/micke/Desktop/Fontys/S7/Group_project...  \n",
       "3     C:/Users/micke/Desktop/Fontys/S7/Group_project...  \n",
       "4     C:/Users/micke/Desktop/Fontys/S7/Group_project...  \n",
       "...                                                 ...  \n",
       "3035  C:/Users/micke/Desktop/Fontys/S7/Group_project...  \n",
       "3036  C:/Users/micke/Desktop/Fontys/S7/Group_project...  \n",
       "3037  C:/Users/micke/Desktop/Fontys/S7/Group_project...  \n",
       "3038  C:/Users/micke/Desktop/Fontys/S7/Group_project...  \n",
       "3039  C:/Users/micke/Desktop/Fontys/S7/Group_project...  \n",
       "\n",
       "[3040 rows x 11 columns]"
      ]
     },
     "execution_count": 16,
     "metadata": {},
     "output_type": "execute_result"
    }
   ],
   "source": [
    "df = df.sample(frac=1).reset_index(drop=True)\n",
    "df"
   ]
  },
  {
   "cell_type": "markdown",
   "metadata": {},
   "source": [
    "creating a test and train set RNN model (split of 80:20)"
   ]
  },
  {
   "cell_type": "code",
   "execution_count": 17,
   "metadata": {},
   "outputs": [],
   "source": [
    "train = df[:int(len(df)*0.8)]\n",
    "test  = df[int(len(df)*0.8):]"
   ]
  },
  {
   "cell_type": "code",
   "execution_count": 18,
   "metadata": {},
   "outputs": [],
   "source": [
    "labels = df[\"Emotion\"].unique()\n",
    "tensorflow_data_path = \"C:/Users/micke/Desktop/Fontys/S7/Group_project/\"\n",
    "\n",
    "# df_to_tensorflow_dataset(tensorflow_data_path +'input/training/',train,labels)\n",
    "# df_to_tensorflow_dataset(tensorflow_data_path +'input/validation/',test,labels)"
   ]
  },
  {
   "cell_type": "code",
   "execution_count": 19,
   "metadata": {},
   "outputs": [
    {
     "name": "stdout",
     "output_type": "stream",
     "text": [
      "Found 2432 files belonging to 7 classes.\n",
      "Using 1946 files for training.\n"
     ]
    }
   ],
   "source": [
    "data_dir = pathlib.Path(tensorflow_data_path + 'input/training/')\n",
    "\n",
    "image_size = cv2.imread(df.image_path[0]).shape\n",
    "\n",
    "batch_size = 32\n",
    "img_height = image_size[0]\n",
    "img_width = image_size[1]\n",
    "\n",
    "train_ds = tf.keras.utils.image_dataset_from_directory(\n",
    "  data_dir,\n",
    "  validation_split=0.2,\n",
    "  subset=\"training\",\n",
    "  seed=123,\n",
    "  image_size=(img_height, img_width),\n",
    "  batch_size=batch_size)"
   ]
  },
  {
   "cell_type": "code",
   "execution_count": 20,
   "metadata": {},
   "outputs": [
    {
     "name": "stdout",
     "output_type": "stream",
     "text": [
      "Found 2432 files belonging to 7 classes.\n",
      "Using 486 files for validation.\n"
     ]
    }
   ],
   "source": [
    "val_ds = tf.keras.utils.image_dataset_from_directory(\n",
    "  data_dir,\n",
    "  validation_split=0.2,\n",
    "  subset=\"validation\",\n",
    "  seed=123,\n",
    "  image_size=(img_height, img_width),\n",
    "  batch_size=batch_size)"
   ]
  },
  {
   "cell_type": "code",
   "execution_count": 21,
   "metadata": {},
   "outputs": [],
   "source": [
    "AUTOTUNE = tf.data.AUTOTUNE\n",
    "\n",
    "train_ds = train_ds.cache().shuffle(1000).prefetch(buffer_size=AUTOTUNE)\n",
    "val_ds = val_ds.cache().prefetch(buffer_size=AUTOTUNE)"
   ]
  },
  {
   "cell_type": "code",
   "execution_count": 41,
   "metadata": {},
   "outputs": [],
   "source": [
    "class_len = len(class_names)\n",
    "\n",
    "cnn = tf.keras.models.Sequential()\n",
    "\n",
    "# Step 1 - Convolution\n",
    "cnn.add(tf.keras.layers.Conv2D(filters=32,padding=\"same\",kernel_size=3, activation='relu', strides=2, input_shape=[img_height, img_width, 3]))\n",
    "\n",
    "# Step 2 - Pooling\n",
    "cnn.add(tf.keras.layers.MaxPool2D(pool_size=2, strides=2))\n",
    "\n",
    "# Adding a second convolutional layer\n",
    "cnn.add(tf.keras.layers.Conv2D(filters=32,padding='same',kernel_size=3, activation='relu'))\n",
    "cnn.add(tf.keras.layers.MaxPool2D(pool_size=2, strides=2))\n",
    "\n",
    "# Step 3 - Flattening\n",
    "cnn.add(tf.keras.layers.Flatten())\n",
    "\n",
    "# Step 4 - Full Connection\n",
    "cnn.add(tf.keras.layers.Dense(units=128, activation='relu'))\n",
    "\n",
    "# Step 5 - Output Layer\n",
    "# cnn.add(tf.keras.layers.Dense(units=1, activation='sigmoid'))\n",
    "## For Binary Classification\n",
    "cnn.add(tf.keras.layers.Dense(1, kernel_regularizer=tf.keras.regularizers.l2(0.01),activation='linear')) #\n",
    "## for mulitclassification\n",
    "cnn.add(tf.keras.layers.Dense(class_len, kernel_regularizer=tf.keras.regularizers.l2(0.01),activation='softmax'))\n",
    "cnn.compile(optimizer = 'adam', loss = 'squared_hinge', metrics = ['accuracy'])"
   ]
  },
  {
   "cell_type": "code",
   "execution_count": 42,
   "metadata": {},
   "outputs": [
    {
     "name": "stdout",
     "output_type": "stream",
     "text": [
      "Model: \"sequential_1\"\n",
      "_________________________________________________________________\n",
      "Layer (type)                 Output Shape              Param #   \n",
      "=================================================================\n",
      "conv2d_2 (Conv2D)            (None, 144, 216, 32)      896       \n",
      "_________________________________________________________________\n",
      "max_pooling2d_2 (MaxPooling2 (None, 72, 108, 32)       0         \n",
      "_________________________________________________________________\n",
      "conv2d_3 (Conv2D)            (None, 72, 108, 32)       9248      \n",
      "_________________________________________________________________\n",
      "max_pooling2d_3 (MaxPooling2 (None, 36, 54, 32)        0         \n",
      "_________________________________________________________________\n",
      "flatten_1 (Flatten)          (None, 62208)             0         \n",
      "_________________________________________________________________\n",
      "dense_3 (Dense)              (None, 128)               7962752   \n",
      "_________________________________________________________________\n",
      "dense_4 (Dense)              (None, 1)                 129       \n",
      "_________________________________________________________________\n",
      "dense_5 (Dense)              (None, 7)                 14        \n",
      "=================================================================\n",
      "Total params: 7,973,039\n",
      "Trainable params: 7,973,039\n",
      "Non-trainable params: 0\n",
      "_________________________________________________________________\n"
     ]
    }
   ],
   "source": [
    "cnn.summary()"
   ]
  },
  {
   "cell_type": "code",
   "execution_count": 44,
   "metadata": {},
   "outputs": [
    {
     "name": "stdout",
     "output_type": "stream",
     "text": [
      "Epoch 1/15\n",
      "61/61 [==============================] - 20s 326ms/step - loss: 0.8936 - accuracy: 0.1521 - val_loss: 0.8904 - val_accuracy: 0.1543\n",
      "Epoch 2/15\n",
      "61/61 [==============================] - 19s 308ms/step - loss: 0.8874 - accuracy: 0.1521 - val_loss: 0.8864 - val_accuracy: 0.1543\n",
      "Epoch 3/15\n",
      "61/61 [==============================] - 19s 308ms/step - loss: 0.8846 - accuracy: 0.1521 - val_loss: 0.8845 - val_accuracy: 0.1543\n",
      "Epoch 4/15\n",
      "61/61 [==============================] - 19s 317ms/step - loss: 0.8831 - accuracy: 0.1521 - val_loss: 0.8833 - val_accuracy: 0.1543\n",
      "Epoch 5/15\n",
      "61/61 [==============================] - 19s 310ms/step - loss: 0.8821 - accuracy: 0.1572 - val_loss: 0.8826 - val_accuracy: 0.1667\n",
      "Epoch 6/15\n",
      "61/61 [==============================] - 18s 302ms/step - loss: 0.5916 - accuracy: 0.1624 - val_loss: 0.5820 - val_accuracy: 0.1399\n",
      "Epoch 7/15\n",
      "61/61 [==============================] - 19s 309ms/step - loss: 0.5727 - accuracy: 0.1619 - val_loss: 0.5818 - val_accuracy: 0.1399\n",
      "Epoch 8/15\n",
      "61/61 [==============================] - 19s 309ms/step - loss: 0.5725 - accuracy: 0.1619 - val_loss: 0.5816 - val_accuracy: 0.1399\n",
      "Epoch 9/15\n",
      "61/61 [==============================] - 18s 303ms/step - loss: 0.5724 - accuracy: 0.1619 - val_loss: 0.5815 - val_accuracy: 0.1399\n",
      "Epoch 10/15\n",
      "61/61 [==============================] - 19s 304ms/step - loss: 0.5722 - accuracy: 0.1619 - val_loss: 0.5814 - val_accuracy: 0.1399\n",
      "Epoch 11/15\n",
      "61/61 [==============================] - 20s 322ms/step - loss: 0.5721 - accuracy: 0.1619 - val_loss: 0.5813 - val_accuracy: 0.1399\n",
      "Epoch 12/15\n",
      "61/61 [==============================] - 20s 323ms/step - loss: 0.5721 - accuracy: 0.1619 - val_loss: 0.5812 - val_accuracy: 0.1399\n",
      "Epoch 13/15\n",
      "61/61 [==============================] - 19s 307ms/step - loss: 0.5720 - accuracy: 0.1619 - val_loss: 0.5811 - val_accuracy: 0.1399\n",
      "Epoch 14/15\n",
      "61/61 [==============================] - 19s 309ms/step - loss: 0.5719 - accuracy: 0.1619 - val_loss: 0.5811 - val_accuracy: 0.1399\n",
      "Epoch 15/15\n",
      "61/61 [==============================] - 19s 308ms/step - loss: 0.5719 - accuracy: 0.1619 - val_loss: 0.5810 - val_accuracy: 0.1399\n"
     ]
    }
   ],
   "source": [
    "# Compiling the CNN\n",
    "cnn.compile(optimizer = 'adam', loss = 'hinge', metrics = ['accuracy'])\n",
    "\n",
    "# Training the CNN on the Training set and evaluating it on the Test set\n",
    "r=cnn.fit(x = train_ds, validation_data = val_ds, epochs = 15)"
   ]
  },
  {
   "cell_type": "code",
   "execution_count": 45,
   "metadata": {},
   "outputs": [
    {
     "data": {
      "image/png": "[encoded data removed]",
      "text/plain": [
       "<Figure size 432x288 with 1 Axes>"
      ]
     },
     "metadata": {
      "needs_background": "light"
     },
     "output_type": "display_data"
    },
    {
     "data": {
      "image/png": "[encoded data removed]",
      "text/plain": [
       "<Figure size 432x288 with 1 Axes>"
      ]
     },
     "metadata": {
      "needs_background": "light"
     },
     "output_type": "display_data"
    },
    {
     "data": {
      "text/plain": [
       "<Figure size 432x288 with 0 Axes>"
      ]
     },
     "metadata": {},
     "output_type": "display_data"
    }
   ],
   "source": [
    "import matplotlib.pyplot as plt\n",
    "plt.plot(r.history['loss'], label='train loss')\n",
    "plt.plot(r.history['val_loss'], label='val loss')\n",
    "plt.legend()\n",
    "plt.show()\n",
    "plt.savefig('LossVal_loss')\n",
    "\n",
    "# plot the accuracy\n",
    "plt.plot(r.history['accuracy'], label='train acc')\n",
    "plt.plot(r.history['val_accuracy'], label='val acc')\n",
    "plt.legend()\n",
    "plt.show()\n",
    "plt.savefig('AccVal_acc')"
   ]
  },
  {
   "cell_type": "markdown",
   "metadata": {},
   "source": [
    "The CNN + SVM model does not preform well under training. Therefore in the next chapter where going to look at regual SVM "
   ]
  },
  {
   "cell_type": "code",
   "execution_count": 46,
   "metadata": {},
   "outputs": [],
   "source": [
    "cnn.save(tensorflow_data_path +'models/model_CNN_v3.h5')"
   ]
  },
  {
   "cell_type": "markdown",
   "metadata": {},
   "source": [
    "## Using Normal SVM\n",
    "Loading the images and labels into memory "
   ]
  },
  {
   "cell_type": "code",
   "execution_count": 27,
   "metadata": {},
   "outputs": [],
   "source": [
    "training_data = []\n",
    "\n",
    "for index, row in df.iterrows():\n",
    "    label = row['Emotion']\n",
    "    path = row['image_path']\n",
    "    img_array=cv2.imread(path)\n",
    "    img_array = img_array/255 #normalize    \n",
    "    training_data.append([img_array,label])"
   ]
  },
  {
   "cell_type": "code",
   "execution_count": 28,
   "metadata": {},
   "outputs": [],
   "source": [
    "X=[]\n",
    "y=[]\n",
    "lenofimage = len(training_data)\n",
    "\n",
    "\n",
    "for categories, label in training_data:\n",
    "    X.append(categories)\n",
    "    y.append(label)\n",
    "X= np.array(X).reshape(lenofimage,-1)"
   ]
  },
  {
   "cell_type": "code",
   "execution_count": 29,
   "metadata": {},
   "outputs": [],
   "source": [
    "y=np.array(y)"
   ]
  },
  {
   "cell_type": "markdown",
   "metadata": {},
   "source": [
    "Creating a training and test set"
   ]
  },
  {
   "cell_type": "code",
   "execution_count": 30,
   "metadata": {},
   "outputs": [],
   "source": [
    "X_train, X_test, y_train, y_test = train_test_split(X,y)"
   ]
  },
  {
   "cell_type": "markdown",
   "metadata": {},
   "source": [
    "Training the network"
   ]
  },
  {
   "cell_type": "code",
   "execution_count": 32,
   "metadata": {},
   "outputs": [
    {
     "data": {
      "text/plain": [
       "SVC(gamma='auto', kernel='linear')"
      ]
     },
     "execution_count": 32,
     "metadata": {},
     "output_type": "execute_result"
    }
   ],
   "source": [
    "svc = SVC(kernel='linear',gamma='auto')\n",
    "svc.fit(X_train, y_train)"
   ]
  },
  {
   "cell_type": "markdown",
   "metadata": {},
   "source": [
    "Saving the model as a pickle object"
   ]
  },
  {
   "cell_type": "code",
   "execution_count": 34,
   "metadata": {},
   "outputs": [],
   "source": [
    "with open(tensorflow_data_path + 'model_pkl', 'wb') as files:\n",
    "    pickle.dump(svc, files)"
   ]
  },
  {
   "cell_type": "markdown",
   "metadata": {},
   "source": [
    "Validating the model score with a prediction"
   ]
  },
  {
   "cell_type": "code",
   "execution_count": 35,
   "metadata": {},
   "outputs": [],
   "source": [
    "y2 = svc.predict(X_test)"
   ]
  },
  {
   "cell_type": "code",
   "execution_count": 37,
   "metadata": {},
   "outputs": [
    {
     "name": "stdout",
     "output_type": "stream",
     "text": [
      "Accuracy on unknown data is 0.9723684210526315\n"
     ]
    }
   ],
   "source": [
    "print(\"Accuracy on unknown data is\",accuracy_score(y_test,y2))"
   ]
  },
  {
   "cell_type": "markdown",
   "metadata": {},
   "source": [
    "The model has a accuracy score of 0.9723684210526315 on the validating data"
   ]
  },
  {
   "cell_type": "code",
   "execution_count": 39,
   "metadata": {},
   "outputs": [
    {
     "name": "stdout",
     "output_type": "stream",
     "text": [
      "Accuracy on unknown data is               precision    recall  f1-score   support\n",
      "\n",
      "       Angry       0.95      0.97      0.96       115\n",
      "        Calm       1.00      1.00      1.00       109\n",
      "     Disgust       1.00      1.00      1.00       103\n",
      "        Fear       0.94      0.93      0.93       120\n",
      "       Happy       1.00      1.00      1.00        98\n",
      "         Sad       1.00      1.00      1.00       102\n",
      "    Surprise       0.93      0.93      0.93       113\n",
      "\n",
      "    accuracy                           0.97       760\n",
      "   macro avg       0.97      0.97      0.97       760\n",
      "weighted avg       0.97      0.97      0.97       760\n",
      "\n"
     ]
    }
   ],
   "source": [
    "print(\"Accuracy on unknown data is\",classification_report(y_test,y2))"
   ]
  },
  {
   "cell_type": "markdown",
   "metadata": {},
   "source": [
    "Final look at all of the predictions "
   ]
  },
  {
   "cell_type": "code",
   "execution_count": 40,
   "metadata": {},
   "outputs": [
    {
     "data": {
      "text/html": [
       "<div>\n",
       "<style scoped>\n",
       "    .dataframe tbody tr th:only-of-type {\n",
       "        vertical-align: middle;\n",
       "    }\n",
       "\n",
       "    .dataframe tbody tr th {\n",
       "        vertical-align: top;\n",
       "    }\n",
       "\n",
       "    .dataframe thead th {\n",
       "        text-align: right;\n",
       "    }\n",
       "</style>\n",
       "<table border=\"1\" class=\"dataframe\">\n",
       "  <thead>\n",
       "    <tr style=\"text-align: right;\">\n",
       "      <th></th>\n",
       "      <th>original</th>\n",
       "      <th>predicted</th>\n",
       "    </tr>\n",
       "  </thead>\n",
       "  <tbody>\n",
       "    <tr>\n",
       "      <th>0</th>\n",
       "      <td>Disgust</td>\n",
       "      <td>Disgust</td>\n",
       "    </tr>\n",
       "    <tr>\n",
       "      <th>1</th>\n",
       "      <td>Calm</td>\n",
       "      <td>Calm</td>\n",
       "    </tr>\n",
       "    <tr>\n",
       "      <th>2</th>\n",
       "      <td>Angry</td>\n",
       "      <td>Angry</td>\n",
       "    </tr>\n",
       "    <tr>\n",
       "      <th>3</th>\n",
       "      <td>Disgust</td>\n",
       "      <td>Disgust</td>\n",
       "    </tr>\n",
       "    <tr>\n",
       "      <th>4</th>\n",
       "      <td>Happy</td>\n",
       "      <td>Happy</td>\n",
       "    </tr>\n",
       "    <tr>\n",
       "      <th>...</th>\n",
       "      <td>...</td>\n",
       "      <td>...</td>\n",
       "    </tr>\n",
       "    <tr>\n",
       "      <th>755</th>\n",
       "      <td>Calm</td>\n",
       "      <td>Calm</td>\n",
       "    </tr>\n",
       "    <tr>\n",
       "      <th>756</th>\n",
       "      <td>Surprise</td>\n",
       "      <td>Surprise</td>\n",
       "    </tr>\n",
       "    <tr>\n",
       "      <th>757</th>\n",
       "      <td>Disgust</td>\n",
       "      <td>Disgust</td>\n",
       "    </tr>\n",
       "    <tr>\n",
       "      <th>758</th>\n",
       "      <td>Fear</td>\n",
       "      <td>Fear</td>\n",
       "    </tr>\n",
       "    <tr>\n",
       "      <th>759</th>\n",
       "      <td>Happy</td>\n",
       "      <td>Happy</td>\n",
       "    </tr>\n",
       "  </tbody>\n",
       "</table>\n",
       "<p>760 rows × 2 columns</p>\n",
       "</div>"
      ],
      "text/plain": [
       "     original predicted\n",
       "0     Disgust   Disgust\n",
       "1        Calm      Calm\n",
       "2       Angry     Angry\n",
       "3     Disgust   Disgust\n",
       "4       Happy     Happy\n",
       "..        ...       ...\n",
       "755      Calm      Calm\n",
       "756  Surprise  Surprise\n",
       "757   Disgust   Disgust\n",
       "758      Fear      Fear\n",
       "759     Happy     Happy\n",
       "\n",
       "[760 rows x 2 columns]"
      ]
     },
     "execution_count": 40,
     "metadata": {},
     "output_type": "execute_result"
    }
   ],
   "source": [
    "result = pd.DataFrame({'original' : y_test,'predicted' : y2})\n",
    "result\n"
   ]
  },
  {
   "cell_type": "markdown",
   "metadata": {},
   "source": [
    "# conclusion \n",
    "The CNN + SVM model did not preform well, the network had a hard time correctly categorizing the images to the right label. On the other hand,  \n",
    "the regular SVM model performs really well, with emotion classification, with an accuracy score on unknown data of ≈0.97. <br>\n",
    "\n",
    "In short, the regular SVM model is a good choice for our emotion prediction system. \n"
   ]
  }
 ],
 "metadata": {
  "kernelspec": {
   "display_name": "Python 3.9.6 64-bit",
   "language": "python",
   "name": "python3"
  },
  "language_info": {
   "codemirror_mode": {
    "name": "ipython",
    "version": 3
   },
   "file_extension": ".py",
   "mimetype": "text/x-python",
   "name": "python",
   "nbconvert_exporter": "python",
   "pygments_lexer": "ipython3",
   "version": "3.9.6"
  },
  "orig_nbformat": 4,
  "vscode": {
   "interpreter": {
    "hash": "cf3758f68ccd6a6ae59c6beb3af95554663b2df1117711160014e859fd9ca105"
   }
  }
 },
 "nbformat": 4,
 "nbformat_minor": 2
}
