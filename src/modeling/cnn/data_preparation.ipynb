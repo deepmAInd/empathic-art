{
 "cells": [
  {
   "cell_type": "code",
   "execution_count": 2,
   "metadata": {},
   "outputs": [],
   "source": [
    "import pandas as pd\n",
    "\n",
    "import torch\n",
    "import torchaudio\n",
    "import torch.nn as nn\n",
    "\n",
    "import torchaudio.functional as F\n",
    "import torchaudio.transforms as T\n",
    "\n",
    "from torch.utils.data.dataloader import Dataset, T_co\n",
    "from sklearn import preprocessing\n",
    "import librosa"
   ]
  },
  {
   "cell_type": "code",
   "execution_count": 3,
   "metadata": {},
   "outputs": [],
   "source": [
    "ANNOTATIONS_DIR = \"/home/michael/Documents/fontys/semester_7/depmAInd/empathic_art/empathic-art/data/reference_df.csv\"\n",
    "AUDIO_DIR = \"/home/michael/Documents/fontys/semester_7/depmAInd/empathic_art/empathic-art/data/utoronto/data\"\n",
    "\n",
    "SAMPLE_RATE = 44100\n",
    "NUM_FRAMES = 220500"
   ]
  },
  {
   "cell_type": "code",
   "execution_count": null,
   "metadata": {},
   "outputs": [],
   "source": [
    "#trim whitespce of all sound files.\n",
    "librosa."
   ]
  },
  {
   "cell_type": "code",
   "execution_count": 4,
   "metadata": {},
   "outputs": [],
   "source": [
    "class SpecgramDataset(Dataset):\n",
    "    \n",
    "    def __init__(self, annotations: str = ANNOTATIONS_DIR, audio_dir: str = AUDIO_DIR,  \n",
    "                to_specgram = None, sample_rate: int = SAMPLE_RATE, num_frames: int = NUM_FRAMES) -> None:\n",
    "        super().__init__()\n",
    "        self.annotations = pd.read_csv(annotations)\n",
    "        self.labels = self.label_encoder.fit_transform(self.annotations[self.annotations == \"tess\"].emotion)\n",
    "\n",
    "        self.audio_dir = audio_dir\n",
    "\n",
    "        self.to_specgram = to_specgram\n",
    "\n",
    "        self.sample_rate = sample_rate\n",
    "        self.num_frames = num_frames\n",
    "    \n",
    "    def __len__(self) -> int:\n",
    "        return len(self.labels)\n",
    "\n",
    "    def __getitem__(self, index: int) -> T_co:\n",
    "        label = self.labels[index]\n",
    "        waveform, sr = torchaudio.load(f\"{self.audio_dir}/{self.annotations.iloc[index].filename}\")\n",
    "        \n",
    "        waveform = self._resample_if_necessary(waveform, sr)\n",
    "        waveform = self._cut_if_necessary(waveform)\n",
    "        waveform = self._right_pad_if_necessary(waveform)\n",
    "\n",
    "        specgram = self.to_specgram(waveform)\n",
    "\n",
    "        return specgram, label\n",
    "\n",
    "    def _cut_if_necessary(self, waveform: torch.Tensor) -> torch.Tensor:\n",
    "        num_frames = waveform.shape[1]\n",
    "        if num_frames > self.num_frames:\n",
    "            waveform = waveform[:, :self.num_frames]\n",
    "        return waveform\n",
    "\n",
    "    def _right_pad_if_necessary(self, waveform: torch.Tensor) -> torch.Tensor:\n",
    "        num_frames = waveform.shape[1]\n",
    "        if num_frames < self.num_frames:\n",
    "            missing_frames = self.num_frames - num_frames\n",
    "            last_dim_padding = (0, missing_frames)\n",
    "            waveform = nn.functional.pad(waveform, last_dim_padding)\n",
    "        return waveform\n",
    "\n",
    "    def _resample_if_necessary(self, waveform: torch.Tensor, sr: int) -> torch.Tensor:\n",
    "        if self.sample_rate != sr:\n",
    "            resampler = torchaudio.transforms.Resample(sr, self.sample_rate)\n",
    "            waveform = resampler(waveform)\n",
    "        return waveform"
   ]
  },
  {
   "cell_type": "code",
   "execution_count": null,
   "metadata": {},
   "outputs": [],
   "source": []
  }
 ],
 "metadata": {
  "kernelspec": {
   "display_name": "Python 3.10.6 ('empathic-art-VdJ2KSTr')",
   "language": "python",
   "name": "python3"
  },
  "language_info": {
   "codemirror_mode": {
    "name": "ipython",
    "version": 3
   },
   "file_extension": ".py",
   "mimetype": "text/x-python",
   "name": "python",
   "nbconvert_exporter": "python",
   "pygments_lexer": "ipython3",
   "version": "3.10.6"
  },
  "orig_nbformat": 4,
  "vscode": {
   "interpreter": {
    "hash": "e50c87813b58f42c33168ff8a825bf8dc8f12ff2146cb51a790b6579912f82a5"
   }
  }
 },
 "nbformat": 4,
 "nbformat_minor": 2
}
