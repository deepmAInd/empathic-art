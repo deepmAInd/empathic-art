{
  "cells": [
    {
      "cell_type": "markdown",
      "metadata": {
        "id": "pKaiQP4NJy93"
      },
      "source": [
        "# Empathic Art Project Data Preparation Notebook\n",
        "\n",
        "## Introduction\n",
        "This notebook details the proccess of preparing a dataset which consists of \".wav\" audio files into a datasets of Spectrograms, Mel Spectrograms, LFCC or MFCC files.\n",
        "\n",
        "## General Description of the Dataset \n",
        "The reason for the wide range of differing formats for the final dataset is the stage of the development at which this document is made. At this point, the team is trying out numerous different models to see which ones are the best fit for the project. At this point, the team decided to create the data preparation notebook as more of a pipeline with configurable constants, which impact the final look of the dataset. With the amount of different models, the final dataset changes in order to fit the needs of the model. \n",
        "The aspects of the dataset that change are:\n",
        "- The sample rate of the soundfiles\n",
        "- The length of the sound files\n",
        "- The size of the final dataform\n",
        "- Background noise removal from cleaner sound data."
      ]
    },
    {
      "cell_type": "markdown",
      "metadata": {
        "id": "jsCJ_qABQSUg"
      },
      "source": [
        "## Imports"
      ]
    },
    {
      "cell_type": "code",
      "execution_count": 49,
      "metadata": {
        "id": "ZD10P7xOI7HZ"
      },
      "outputs": [],
      "source": [
        "import pandas as pd\n",
        "\n",
        "import torch\n",
        "import torchaudio\n",
        "import torch.nn as nn\n",
        "import torch.optim as optim\n",
        "from torch.nn import functional\n",
        "\n",
        "import torchvision\n",
        "\n",
        "import torchaudio.functional as F\n",
        "import torchaudio.transforms as T\n",
        "\n",
        "from torch.utils.data.dataloader import Dataset, T_co\n",
        "\n",
        "import noisereduce as nr\n",
        "\n",
        "from torch.utils.data import random_split\n",
        "from torch.utils.data.dataloader import DataLoader\n",
        "\n",
        "from sklearn import preprocessing"
      ]
    },
    {
      "cell_type": "markdown",
      "metadata": {
        "id": "3XEjXud9QW_s"
      },
      "source": [
        "## Connecting the Google Drive"
      ]
    },
    {
      "cell_type": "code",
      "execution_count": null,
      "metadata": {
        "colab": {
          "base_uri": "https://localhost:8080/"
        },
        "id": "ErhwlabBJNwx",
        "outputId": "173e6b79-86dd-4efd-b973-947be70f0efd"
      },
      "outputs": [
        {
          "name": "stdout",
          "output_type": "stream",
          "text": [
            "Mounted at /content/gdrive\n"
          ]
        }
      ],
      "source": [
        "from google.colab import drive\n",
        "drive.mount(\"/content/gdrive\")"
      ]
    },
    {
      "cell_type": "markdown",
      "metadata": {
        "id": "wgbB50xFQrBU"
      },
      "source": [
        "The Google Drive contains the dataset and the annotations. The paths to them are set here. The sample rate and amount of frames are also set here as constants. These also influence the length of the soundfiles, where the length in seconds is calculated by the formula T = NUM_FRAMES / SAMPLE_RATE."
      ]
    },
    {
      "cell_type": "markdown",
      "metadata": {
        "id": "P3q926htRwXN"
      },
      "source": [
        "## Setting the constants"
      ]
    },
    {
      "cell_type": "code",
      "execution_count": 50,
      "metadata": {
        "id": "2h0_CGCuI7Hc"
      },
      "outputs": [],
      "source": [
        "ANNOTATIONS_DIR = \"../../../data/reference_df.csv\"\n",
        "AUDIO_DIR = \"../../../data/soundfiles\"\n",
        "\n",
        "SAMPLE_RATE = 44100\n",
        "NUM_FRAMES = 88200"
      ]
    },
    {
      "cell_type": "markdown",
      "metadata": {
        "id": "PnAX3ub3RutS"
      },
      "source": [
        "## The dataset class\n",
        "\n",
        "In this class the main data proccessing happens. The class proccesses the data points by resampling them, cutting/padding them if a different length is needed and removing the noise from the file to improve the soundfile quality. The processing steps are applied only when the training requests an item from the datasets, saving a lot of disk space when creating different types of datasets."
      ]
    },
    {
      "cell_type": "code",
      "execution_count": 51,
      "metadata": {
        "id": "71ByHy-XI7Hc"
      },
      "outputs": [],
      "source": [
        "class SpecgramDataset(Dataset):\n",
        "    \n",
        "    def __init__(self, annotations: str = ANNOTATIONS_DIR, audio_dir: str = AUDIO_DIR,  \n",
        "                to_specgram = None, sample_rate: int = SAMPLE_RATE, num_frames: int = NUM_FRAMES) -> None:\n",
        "        super().__init__()\n",
        "\n",
        "        self.label_encoder = preprocessing.LabelEncoder()\n",
        "\n",
        "        self.annotations = pd.read_csv(annotations)\n",
        "        self.labels = self.label_encoder.fit_transform(self.annotations.emotion)\n",
        "\n",
        "        self.audio_dir = audio_dir\n",
        "\n",
        "        self.to_specgram = to_specgram\n",
        "\n",
        "        self.sample_rate = sample_rate\n",
        "        self.num_frames = num_frames\n",
        "    \n",
        "    def __len__(self) -> int:\n",
        "        return len(self.labels)\n",
        "\n",
        "    def __getitem__(self, index: int) -> T_co:\n",
        "        label = self.labels[index]\n",
        "        waveform, sr = torchaudio.load(f\"{self.audio_dir}/{self.annotations.iloc[index].filename}\")\n",
        "        \n",
        "        waveform = self._resample_if_necessary(waveform, sr)\n",
        "        waveform = self._cut_if_necessary(waveform)\n",
        "        waveform = self._right_pad_if_necessary(waveform)\n",
        "        waveform = self._reduce_noise_if_necessary(waveform, sr)\n",
        "        specgram = self.to_specgram(waveform)\n",
        "\n",
        "        # incase of suround sound the shape of the tensor is [2, x, x]\n",
        "        # basically the same array two times. So I just keep one of the two\n",
        "        if int(specgram.shape[0]) == 2:\n",
        "            specgram = specgram[0]\n",
        "            specgram = specgram[None]\n",
        "\n",
        "        # specgram = torchvision.transforms.Resize(size=(224, 224))(specgram)\n",
        "\n",
        "        # normalize the image value\n",
        "        return (specgram / 255.0), label\n",
        "\n",
        "    def _cut_if_necessary(self, waveform: torch.Tensor) -> torch.Tensor:\n",
        "        num_frames = waveform.shape[1]\n",
        "        if num_frames > self.num_frames:\n",
        "            waveform = waveform[:, :self.num_frames]\n",
        "        return waveform\n",
        "\n",
        "    def _right_pad_if_necessary(self, waveform: torch.Tensor) -> torch.Tensor:\n",
        "        num_frames = waveform.shape[1]\n",
        "        if num_frames < self.num_frames:\n",
        "            missing_frames = self.num_frames - num_frames\n",
        "            last_dim_padding = (0, missing_frames)\n",
        "            waveform = nn.functional.pad(waveform, last_dim_padding)\n",
        "        return waveform\n",
        "\n",
        "    def _resample_if_necessary(self, waveform: torch.Tensor, sr: int) -> torch.Tensor:\n",
        "        if self.sample_rate != sr:\n",
        "            resampler = torchaudio.transforms.Resample(sr, self.sample_rate)\n",
        "            waveform = resampler(waveform)\n",
        "        return waveform\n",
        "\n",
        "    def _reduce_noise_if_necessary(self, waveform: torch.Tensor, sr: int) -> torch.Tensor:\n",
        "        waveform = nr.reduce_noise(y=waveform, y_noise=waveform,sr=sr)\n",
        "        return torch.from_numpy(waveform)"
      ]
    },
    {
      "cell_type": "markdown",
      "metadata": {
        "id": "oBYyBdUlpq3A"
      },
      "source": [
        "Four different datasets are created here, each one based on a different form of presenting the data: Spectrogram, Mel Spectrogram, MFCC and LFCC."
      ]
    },
    {
      "cell_type": "code",
      "execution_count": 52,
      "metadata": {
        "colab": {
          "base_uri": "https://localhost:8080/"
        },
        "id": "42H2mFTUI7He",
        "outputId": "75b91bb3-6640-417a-9ea7-9b7ee531fb91"
      },
      "outputs": [
        {
          "name": "stderr",
          "output_type": "stream",
          "text": [
            "/home/michael/.local/share/virtualenvs/empathic-art-VdJ2KSTr/lib/python3.10/site-packages/torchaudio/functional/functional.py:571: UserWarning: At least one mel filterbank has all zero values. The value for `n_mels` (128) may be set too high. Or, the value for `n_freqs` (513) may be set too low.\n",
            "  warnings.warn(\n",
            "/home/michael/.local/share/virtualenvs/empathic-art-VdJ2KSTr/lib/python3.10/site-packages/torchaudio/functional/functional.py:571: UserWarning: At least one mel filterbank has all zero values. The value for `n_mels` (256) may be set too high. Or, the value for `n_freqs` (1025) may be set too low.\n",
            "  warnings.warn(\n"
          ]
        }
      ],
      "source": [
        "# spectogram transform\n",
        "spec_transform = T.Spectrogram(\n",
        "    n_fft=1024,\n",
        "    win_length=None,\n",
        "    hop_length=512,\n",
        "    center=True,\n",
        "    pad_mode=\"reflect\",\n",
        "    power=2.0,\n",
        ")\n",
        "# spectogram dataset\n",
        "spec_dataset = SpecgramDataset(to_specgram=spec_transform)\n",
        "\n",
        "# mel spectogram transform\n",
        "mel_transform = T.MelSpectrogram(\n",
        "    sample_rate=SAMPLE_RATE,\n",
        "    n_fft=1024,\n",
        "    win_length=None,\n",
        "    hop_length=512,\n",
        "    center=True,\n",
        "    pad_mode=\"reflect\",\n",
        "    power=2.0,\n",
        "    norm=\"slaney\",\n",
        "    onesided=True,\n",
        "    n_mels=128,\n",
        "    mel_scale=\"htk\",\n",
        ")\n",
        "# mel spectogram dataset\n",
        "mel_dataset = SpecgramDataset(to_specgram=mel_transform)\n",
        "\n",
        "\n",
        "# mfcc tranform\n",
        "mfcc_transform = T.MFCC(\n",
        "    sample_rate=SAMPLE_RATE,\n",
        "    n_mfcc=256,\n",
        "    melkwargs={\n",
        "        \"n_fft\": 2048,\n",
        "        \"n_mels\": 256,\n",
        "        \"hop_length\": 512,\n",
        "        \"mel_scale\": \"htk\",\n",
        "    },\n",
        ")\n",
        "# mfcc dataset\n",
        "mfcc_dataset = SpecgramDataset(to_specgram=mfcc_transform)\n",
        "\n",
        "\n",
        "# lfcc transform\n",
        "lfcc_tranform = T.LFCC(\n",
        "    sample_rate=SAMPLE_RATE,\n",
        "    n_lfcc=256,\n",
        "    speckwargs={\n",
        "        \"n_fft\": 2048,\n",
        "        \"win_length\": None,\n",
        "        \"hop_length\": 512,\n",
        "    },\n",
        ")\n",
        "# lfcc dataset\n",
        "lfcc_dataset = SpecgramDataset(to_specgram=lfcc_tranform)\n"
      ]
    },
    {
      "cell_type": "markdown",
      "metadata": {
        "id": "Tmq7kq-hq50e"
      },
      "source": [
        "## Conclusion\n",
        "\n",
        "As a conclusion for the data preparation, we have created a pipeline of sorts which can be used to generate different datasets at need, which will prove to be a great asset and tool to speed up the training process. While there is no definitive final dataset to present at this point, the versatility of the data proccessing step allows us to work on many different models efficiently."
      ]
    },
    {
      "cell_type": "code",
      "execution_count": 53,
      "metadata": {
        "id": "ss6B5iDbDdwX"
      },
      "outputs": [],
      "source": [
        "specgram, label = spec_dataset[6]"
      ]
    },
    {
      "cell_type": "code",
      "execution_count": 54,
      "metadata": {
        "colab": {
          "base_uri": "https://localhost:8080/"
        },
        "id": "1rdzcAhND1WQ",
        "outputId": "4560a658-70a9-4437-d9f7-f904844cf751"
      },
      "outputs": [
        {
          "data": {
            "text/plain": [
              "torch.Size([1, 513, 173])"
            ]
          },
          "execution_count": 54,
          "metadata": {},
          "output_type": "execute_result"
        }
      ],
      "source": [
        "specgram.shape"
      ]
    },
    {
      "cell_type": "code",
      "execution_count": 55,
      "metadata": {},
      "outputs": [
        {
          "data": {
            "text/plain": [
              "tensor([[[3.0309e-05, 8.8175e-06, 1.0225e-05,  ..., 0.0000e+00,\n",
              "          0.0000e+00, 0.0000e+00],\n",
              "         [1.5716e-05, 6.3010e-06, 4.4955e-06,  ..., 0.0000e+00,\n",
              "          0.0000e+00, 0.0000e+00],\n",
              "         [7.4281e-06, 4.3089e-06, 2.0574e-06,  ..., 0.0000e+00,\n",
              "          0.0000e+00, 0.0000e+00],\n",
              "         ...,\n",
              "         [3.2984e-14, 2.7211e-19, 1.0820e-17,  ..., 0.0000e+00,\n",
              "          0.0000e+00, 0.0000e+00],\n",
              "         [3.2857e-14, 1.2245e-19, 1.6769e-18,  ..., 0.0000e+00,\n",
              "          0.0000e+00, 0.0000e+00],\n",
              "         [3.2772e-14, 1.1021e-18, 5.4423e-20,  ..., 0.0000e+00,\n",
              "          0.0000e+00, 0.0000e+00]]])"
            ]
          },
          "execution_count": 55,
          "metadata": {},
          "output_type": "execute_result"
        }
      ],
      "source": [
        "specgram"
      ]
    },
    {
      "cell_type": "code",
      "execution_count": 56,
      "metadata": {
        "id": "QvGAn87kFOOZ"
      },
      "outputs": [],
      "source": [
        "import matplotlib.pyplot as plt\n",
        "import librosa\n",
        "\n",
        "def plot_spectrogram(specgram, title=None, ylabel=\"freq_bin\"):\n",
        "    fig, axs = plt.subplots(1, 1)\n",
        "    axs.set_title(title or \"Spectrogram (db)\")\n",
        "    axs.set_ylabel(ylabel)\n",
        "    axs.set_xlabel(\"frame\")\n",
        "    im = axs.imshow(librosa.power_to_db(specgram), origin=\"lower\", aspect=\"auto\")\n",
        "    fig.colorbar(im, ax=axs)\n",
        "    plt.show(block=False)"
      ]
    },
    {
      "cell_type": "code",
      "execution_count": 57,
      "metadata": {
        "colab": {
          "base_uri": "https://localhost:8080/",
          "height": 295
        },
        "id": "iPdbV1sHFZYj",
        "outputId": "799d5029-7619-4a39-c0cd-24f2b09c77af"
      },
      "outputs": [
        {
          "data": {
            "image/png": "[encoded data removed]",
            "text/plain": [
              "<Figure size 640x480 with 2 Axes>"
            ]
          },
          "metadata": {},
          "output_type": "display_data"
        }
      ],
      "source": [
        "plot_spectrogram(specgram=specgram[0])"
      ]
    },
    {
      "cell_type": "markdown",
      "metadata": {
        "id": "waXkOh-OFzOM"
      },
      "source": [
        "## Modelling"
      ]
    },
    {
      "cell_type": "markdown",
      "metadata": {
        "id": "mH6CrCXbuAOt"
      },
      "source": [
        "## ."
      ]
    },
    {
      "cell_type": "code",
      "execution_count": 58,
      "metadata": {
        "id": "LOsc2U8yI7Hf"
      },
      "outputs": [],
      "source": [
        "class EmotionCNN(nn.Module):\n",
        "\n",
        "    def __init__(self) -> None:\n",
        "        super().__init__()\n",
        "\n",
        "        self.network = nn.Sequential(\n",
        "            nn.Conv2d(1, 32, kernel_size=5, padding=1),\n",
        "            nn.ReLU(),\n",
        "            nn.Conv2d(32, 32, kernel_size=5, padding=1, stride=1),\n",
        "            nn.ReLU(),\n",
        "            nn.AvgPool2d(2, 2), # out: 32 x 128 x 128\n",
        "\n",
        "            nn.Conv2d(32, 64, kernel_size=5, padding=1, stride=1),\n",
        "            nn.ReLU(),\n",
        "            nn.Conv2d(64, 64, kernel_size=5, padding=1, stride=1),\n",
        "            nn.ReLU(),\n",
        "            nn.AvgPool2d(2, 2), # out: 64 x 125 x 40\n",
        "\n",
        "            nn.Dropout(p=.4),\n",
        "\n",
        "            nn.Flatten(),\n",
        "\n",
        "            nn.Linear(in_features=64 * 125 * 40, out_features=512),\n",
        "            nn.ReLU(),\n",
        "            nn.Linear(in_features=512, out_features=128),\n",
        "            nn.ReLU(),\n",
        "            nn.Linear(in_features=128, out_features=10),\n",
        "        )\n",
        "\n",
        "    def forward(self, xb: torch.Tensor):\n",
        "        return self.network(xb)\n",
        "\n",
        "    def train_step(self, batch):\n",
        "        images, labels = batch\n",
        "        out = self(images) # generate predictions\n",
        "        loss = functional.cross_entropy(out, labels) # calculate loss\n",
        "        return loss\n",
        "\n",
        "    def validation_step(self, batch):\n",
        "        images, labels = batch\n",
        "        out = self(images) # generate predictgions\n",
        "        loss = functional.cross_entropy(out, labels) # calculate loss\n",
        "        acc = accuracy(out, labels) # calculate accuracy\n",
        "        return {\"val_loss\": loss.detach(), \"val_acc\": acc}\n",
        "\n",
        "    def validation_epoch_end(self, outputs):\n",
        "        batch_losses = [x[\"val_loss\"] for x in outputs]\n",
        "        epoch_loss = torch.stack(batch_losses).mean()\n",
        "\n",
        "        batch_accs = [x[\"val_acc\"] for x in outputs]\n",
        "        epoch_acc = torch.stack(batch_accs).mean()\n",
        "        return {\"val_loss\": epoch_loss.item(), \"val_acc\": epoch_acc.item()}\n",
        "\n",
        "    def epoch_end(self, epoch, result):\n",
        "        print(f\"Epoch {epoch}, train_loss: {result['train_loss']}, \\\n",
        "        val_loss: {result['val_loss']}, val_acc: {result['val_acc']}\")\n"
      ]
    },
    {
      "cell_type": "code",
      "execution_count": 59,
      "metadata": {
        "id": "6N8kJiKLXZKW"
      },
      "outputs": [],
      "source": [
        "def get_default_device():\n",
        "    \"\"\"Pick GPU if available, else CPU\"\"\"\n",
        "    if torch.cuda.is_available():\n",
        "        return torch.device('cuda')\n",
        "    else:\n",
        "        return torch.device('cpu')\n",
        "    \n",
        "def to_device(data, device):\n",
        "    \"\"\"Move tensor(s) to chosen device\"\"\"\n",
        "    if isinstance(data, (list,tuple)):\n",
        "        return [to_device(x, device) for x in data]\n",
        "    return data.to(device, non_blocking=True)\n",
        "\n",
        "class DeviceDataLoader():\n",
        "    \"\"\"Wrap a dataloader to move data to a device\"\"\"\n",
        "    def __init__(self, dl, device):\n",
        "        self.dl = dl\n",
        "        self.device = device\n",
        "        \n",
        "    def __iter__(self):\n",
        "        \"\"\"Yield a batch of data after moving it to device\"\"\"\n",
        "        for b in self.dl: \n",
        "            yield to_device(b, self.device)\n",
        "\n",
        "    def __len__(self):\n",
        "        \"\"\"Number of batches\"\"\"\n",
        "        return len(self.dl)"
      ]
    },
    {
      "cell_type": "code",
      "execution_count": 60,
      "metadata": {
        "colab": {
          "base_uri": "https://localhost:8080/"
        },
        "id": "dit9Oki7XdQD",
        "outputId": "c5dc0c45-57bc-43d3-8080-7c63e23126a1"
      },
      "outputs": [
        {
          "data": {
            "text/plain": [
              "device(type='cuda')"
            ]
          },
          "execution_count": 60,
          "metadata": {},
          "output_type": "execute_result"
        }
      ],
      "source": [
        "device = get_default_device()\n",
        "device"
      ]
    },
    {
      "cell_type": "code",
      "execution_count": 61,
      "metadata": {
        "id": "DxMY1uUDI7Hg"
      },
      "outputs": [],
      "source": [
        "def accuracy(outputs, labels):\n",
        "    _, preds = torch.max(outputs, dim=1)\n",
        "    return torch.tensor(torch.sum(preds == labels).item() / len(preds))"
      ]
    },
    {
      "cell_type": "code",
      "execution_count": 62,
      "metadata": {
        "id": "wBno7zzQI7Hg"
      },
      "outputs": [],
      "source": [
        "@torch.no_grad()\n",
        "def evaluate(model: EmotionCNN, val_loader: DataLoader):\n",
        "    model.eval()\n",
        "    outputs = [model.validation_step(batch) for batch in val_loader]\n",
        "    return model.validation_epoch_end(outputs)"
      ]
    },
    {
      "cell_type": "code",
      "execution_count": 63,
      "metadata": {
        "id": "zTG8M_b3I7Hh"
      },
      "outputs": [],
      "source": [
        "def fit(epochs, lr, model: EmotionCNN, train_loader, val_loader, opt_func = optim.Adam):\n",
        "    history = []\n",
        "    optimizer = opt_func(model.parameters(), lr=lr)\n",
        "\n",
        "    for epoch in range(epochs):\n",
        "        model.train()\n",
        "        train_losses = []\n",
        "\n",
        "        for batch in train_loader:\n",
        "            loss = model.train_step(batch)\n",
        "            train_losses.append(loss)\n",
        "            loss.backward()\n",
        "            optimizer.step()\n",
        "            optimizer.zero_grad()\n",
        "        result = evaluate(model, val_loader)\n",
        "        result[\"train_loss\"] = torch.stack(train_losses).mean().item()\n",
        "        model.epoch_end(epoch, result)\n",
        "        history.append(result)\n",
        "    return history"
      ]
    },
    {
      "cell_type": "code",
      "execution_count": 64,
      "metadata": {
        "id": "6dwiRWujI7Hi"
      },
      "outputs": [],
      "source": [
        "train_num = int(len(spec_dataset) * .7)\n",
        "val_num = len(spec_dataset) - train_num\n",
        "\n",
        "train_ds, val_ds = random_split(\n",
        "    dataset=spec_dataset, \n",
        "    lengths=[train_num, val_num], \n",
        "    generator=torch.Generator().manual_seed(42)\n",
        ")\n",
        "\n",
        "# train_num = int(len(lfcc_dataset) * .7)\n",
        "# val_num = len(lfcc_dataset) - train_num\n",
        "\n",
        "# train_ds, val_ds = random_split(\n",
        "#     dataset=lfcc_dataset, \n",
        "#     lengths=[train_num, val_num], \n",
        "#     generator=torch.Generator().manual_seed(42)\n",
        "# )"
      ]
    },
    {
      "cell_type": "code",
      "execution_count": 65,
      "metadata": {
        "id": "f2ag6jdtI7Hi"
      },
      "outputs": [],
      "source": [
        "batch_size = 8\n",
        "\n",
        "train_loader = DataLoader(train_ds, batch_size, shuffle=True, num_workers=2, pin_memory=True, generator=torch.Generator().manual_seed(42))\n",
        "val_loader = DataLoader(val_ds, batch_size, num_workers=2, pin_memory=True)"
      ]
    },
    {
      "cell_type": "code",
      "execution_count": 66,
      "metadata": {
        "id": "gePtd6giYHlE"
      },
      "outputs": [],
      "source": [
        "train_loader = DeviceDataLoader(train_loader, device)\n",
        "val_loader = DeviceDataLoader(val_loader, device)"
      ]
    },
    {
      "cell_type": "code",
      "execution_count": 67,
      "metadata": {
        "id": "2a1fb5hcYXrn"
      },
      "outputs": [],
      "source": [
        "model = to_device(EmotionCNN(), device)"
      ]
    },
    {
      "cell_type": "code",
      "execution_count": 68,
      "metadata": {
        "colab": {
          "base_uri": "https://localhost:8080/"
        },
        "id": "-Uv1A0FEb8_p",
        "outputId": "8cb633ae-9858-4452-c5fe-aad61096550a"
      },
      "outputs": [
        {
          "data": {
            "text/plain": [
              "9010"
            ]
          },
          "execution_count": 68,
          "metadata": {},
          "output_type": "execute_result"
        }
      ],
      "source": [
        "import gc\n",
        "gc.collect()"
      ]
    },
    {
      "cell_type": "code",
      "execution_count": 69,
      "metadata": {
        "id": "FA50b9Ry7B8C"
      },
      "outputs": [],
      "source": [
        "torch.cuda.empty_cache()"
      ]
    },
    {
      "cell_type": "code",
      "execution_count": 47,
      "metadata": {
        "id": "5zp5J7RzArkv"
      },
      "outputs": [],
      "source": [
        "simple_model = nn.Sequential(\n",
        "            nn.Conv2d(1, 32, kernel_size=5, padding=1),\n",
        "            nn.ReLU(),\n",
        "            nn.Conv2d(32, 32, kernel_size=5, padding=1, stride=1),\n",
        "            nn.ReLU(),\n",
        "            nn.AvgPool2d(2, 2), # out: 32 x 128 x 128\n",
        "\n",
        "            nn.Conv2d(32, 64, kernel_size=5, padding=1, stride=1),\n",
        "            nn.ReLU(),\n",
        "            nn.Conv2d(64, 64, kernel_size=5, padding=1, stride=1),\n",
        "            nn.ReLU(),\n",
        "            nn.AvgPool2d(2, 2), # out: 64 x 53 x 53\n",
        "        ).to(device=device)"
      ]
    },
    {
      "cell_type": "code",
      "execution_count": null,
      "metadata": {
        "id": "GOx9he6iAwJw"
      },
      "outputs": [],
      "source": [
        "for images, labels in train_loader:\n",
        "    print('images.shape:', images.shape)\n",
        "    out = simple_model(images)\n",
        "    print('out.shape:', out.shape)\n",
        "    print('out[0]:', out[0])\n",
        "    break"
      ]
    },
    {
      "cell_type": "code",
      "execution_count": 70,
      "metadata": {
        "colab": {
          "base_uri": "https://localhost:8080/",
          "height": 363
        },
        "id": "TmpJL8f3I7Hj",
        "outputId": "153ee448-00de-432d-bbd5-c181db6a7dda"
      },
      "outputs": [
        {
          "ename": "OutOfMemoryError",
          "evalue": "CUDA out of memory. Tried to allocate 626.00 MiB (GPU 0; 3.94 GiB total capacity; 2.73 GiB already allocated; 293.69 MiB free; 2.98 GiB reserved in total by PyTorch) If reserved memory is >> allocated memory try setting max_split_size_mb to avoid fragmentation.  See documentation for Memory Management and PYTORCH_CUDA_ALLOC_CONF",
          "output_type": "error",
          "traceback": [
            "\u001b[0;31m---------------------------------------------------------------------------\u001b[0m",
            "\u001b[0;31mOutOfMemoryError\u001b[0m                          Traceback (most recent call last)",
            "Cell \u001b[0;32mIn [70], line 1\u001b[0m\n\u001b[0;32m----> 1\u001b[0m history \u001b[39m=\u001b[39m fit(epochs\u001b[39m=\u001b[39;49m\u001b[39m1\u001b[39;49m, lr\u001b[39m=\u001b[39;49m\u001b[39m.0001\u001b[39;49m, model\u001b[39m=\u001b[39;49mmodel, train_loader\u001b[39m=\u001b[39;49mtrain_loader, val_loader\u001b[39m=\u001b[39;49mval_loader)\n",
            "Cell \u001b[0;32mIn [63], line 13\u001b[0m, in \u001b[0;36mfit\u001b[0;34m(epochs, lr, model, train_loader, val_loader, opt_func)\u001b[0m\n\u001b[1;32m     11\u001b[0m     train_losses\u001b[39m.\u001b[39mappend(loss)\n\u001b[1;32m     12\u001b[0m     loss\u001b[39m.\u001b[39mbackward()\n\u001b[0;32m---> 13\u001b[0m     optimizer\u001b[39m.\u001b[39;49mstep()\n\u001b[1;32m     14\u001b[0m     optimizer\u001b[39m.\u001b[39mzero_grad()\n\u001b[1;32m     15\u001b[0m result \u001b[39m=\u001b[39m evaluate(model, val_loader)\n",
            "File \u001b[0;32m~/.local/share/virtualenvs/empathic-art-VdJ2KSTr/lib/python3.10/site-packages/torch/optim/optimizer.py:140\u001b[0m, in \u001b[0;36mOptimizer._hook_for_profile.<locals>.profile_hook_step.<locals>.wrapper\u001b[0;34m(*args, **kwargs)\u001b[0m\n\u001b[1;32m    138\u001b[0m profile_name \u001b[39m=\u001b[39m \u001b[39m\"\u001b[39m\u001b[39mOptimizer.step#\u001b[39m\u001b[39m{}\u001b[39;00m\u001b[39m.step\u001b[39m\u001b[39m\"\u001b[39m\u001b[39m.\u001b[39mformat(obj\u001b[39m.\u001b[39m\u001b[39m__class__\u001b[39m\u001b[39m.\u001b[39m\u001b[39m__name__\u001b[39m)\n\u001b[1;32m    139\u001b[0m \u001b[39mwith\u001b[39;00m torch\u001b[39m.\u001b[39mautograd\u001b[39m.\u001b[39mprofiler\u001b[39m.\u001b[39mrecord_function(profile_name):\n\u001b[0;32m--> 140\u001b[0m     out \u001b[39m=\u001b[39m func(\u001b[39m*\u001b[39;49margs, \u001b[39m*\u001b[39;49m\u001b[39m*\u001b[39;49mkwargs)\n\u001b[1;32m    141\u001b[0m     obj\u001b[39m.\u001b[39m_optimizer_step_code()\n\u001b[1;32m    142\u001b[0m     \u001b[39mreturn\u001b[39;00m out\n",
            "File \u001b[0;32m~/.local/share/virtualenvs/empathic-art-VdJ2KSTr/lib/python3.10/site-packages/torch/optim/optimizer.py:23\u001b[0m, in \u001b[0;36m_use_grad_for_differentiable.<locals>._use_grad\u001b[0;34m(self, *args, **kwargs)\u001b[0m\n\u001b[1;32m     21\u001b[0m \u001b[39mtry\u001b[39;00m:\n\u001b[1;32m     22\u001b[0m     torch\u001b[39m.\u001b[39mset_grad_enabled(\u001b[39mself\u001b[39m\u001b[39m.\u001b[39mdefaults[\u001b[39m'\u001b[39m\u001b[39mdifferentiable\u001b[39m\u001b[39m'\u001b[39m])\n\u001b[0;32m---> 23\u001b[0m     ret \u001b[39m=\u001b[39m func(\u001b[39mself\u001b[39;49m, \u001b[39m*\u001b[39;49margs, \u001b[39m*\u001b[39;49m\u001b[39m*\u001b[39;49mkwargs)\n\u001b[1;32m     24\u001b[0m \u001b[39mfinally\u001b[39;00m:\n\u001b[1;32m     25\u001b[0m     torch\u001b[39m.\u001b[39mset_grad_enabled(prev_grad)\n",
            "File \u001b[0;32m~/.local/share/virtualenvs/empathic-art-VdJ2KSTr/lib/python3.10/site-packages/torch/optim/adam.py:234\u001b[0m, in \u001b[0;36mAdam.step\u001b[0;34m(self, closure, grad_scaler)\u001b[0m\n\u001b[1;32m    231\u001b[0m                 \u001b[39mraise\u001b[39;00m \u001b[39mRuntimeError\u001b[39;00m(\u001b[39m'\u001b[39m\u001b[39m`requires_grad` is not supported for `step` in differentiable mode\u001b[39m\u001b[39m'\u001b[39m)\n\u001b[1;32m    232\u001b[0m             state_steps\u001b[39m.\u001b[39mappend(state[\u001b[39m'\u001b[39m\u001b[39mstep\u001b[39m\u001b[39m'\u001b[39m])\n\u001b[0;32m--> 234\u001b[0m     adam(params_with_grad,\n\u001b[1;32m    235\u001b[0m          grads,\n\u001b[1;32m    236\u001b[0m          exp_avgs,\n\u001b[1;32m    237\u001b[0m          exp_avg_sqs,\n\u001b[1;32m    238\u001b[0m          max_exp_avg_sqs,\n\u001b[1;32m    239\u001b[0m          state_steps,\n\u001b[1;32m    240\u001b[0m          amsgrad\u001b[39m=\u001b[39;49mgroup[\u001b[39m'\u001b[39;49m\u001b[39mamsgrad\u001b[39;49m\u001b[39m'\u001b[39;49m],\n\u001b[1;32m    241\u001b[0m          beta1\u001b[39m=\u001b[39;49mbeta1,\n\u001b[1;32m    242\u001b[0m          beta2\u001b[39m=\u001b[39;49mbeta2,\n\u001b[1;32m    243\u001b[0m          lr\u001b[39m=\u001b[39;49mgroup[\u001b[39m'\u001b[39;49m\u001b[39mlr\u001b[39;49m\u001b[39m'\u001b[39;49m],\n\u001b[1;32m    244\u001b[0m          weight_decay\u001b[39m=\u001b[39;49mgroup[\u001b[39m'\u001b[39;49m\u001b[39mweight_decay\u001b[39;49m\u001b[39m'\u001b[39;49m],\n\u001b[1;32m    245\u001b[0m          eps\u001b[39m=\u001b[39;49mgroup[\u001b[39m'\u001b[39;49m\u001b[39meps\u001b[39;49m\u001b[39m'\u001b[39;49m],\n\u001b[1;32m    246\u001b[0m          maximize\u001b[39m=\u001b[39;49mgroup[\u001b[39m'\u001b[39;49m\u001b[39mmaximize\u001b[39;49m\u001b[39m'\u001b[39;49m],\n\u001b[1;32m    247\u001b[0m          foreach\u001b[39m=\u001b[39;49mgroup[\u001b[39m'\u001b[39;49m\u001b[39mforeach\u001b[39;49m\u001b[39m'\u001b[39;49m],\n\u001b[1;32m    248\u001b[0m          capturable\u001b[39m=\u001b[39;49mgroup[\u001b[39m'\u001b[39;49m\u001b[39mcapturable\u001b[39;49m\u001b[39m'\u001b[39;49m],\n\u001b[1;32m    249\u001b[0m          differentiable\u001b[39m=\u001b[39;49mgroup[\u001b[39m'\u001b[39;49m\u001b[39mdifferentiable\u001b[39;49m\u001b[39m'\u001b[39;49m],\n\u001b[1;32m    250\u001b[0m          fused\u001b[39m=\u001b[39;49mgroup[\u001b[39m'\u001b[39;49m\u001b[39mfused\u001b[39;49m\u001b[39m'\u001b[39;49m],\n\u001b[1;32m    251\u001b[0m          grad_scale\u001b[39m=\u001b[39;49mgrad_scale,\n\u001b[1;32m    252\u001b[0m          found_inf\u001b[39m=\u001b[39;49mfound_inf)\n\u001b[1;32m    254\u001b[0m \u001b[39mreturn\u001b[39;00m loss\n",
            "File \u001b[0;32m~/.local/share/virtualenvs/empathic-art-VdJ2KSTr/lib/python3.10/site-packages/torch/optim/adam.py:300\u001b[0m, in \u001b[0;36madam\u001b[0;34m(params, grads, exp_avgs, exp_avg_sqs, max_exp_avg_sqs, state_steps, foreach, capturable, differentiable, fused, grad_scale, found_inf, amsgrad, beta1, beta2, lr, weight_decay, eps, maximize)\u001b[0m\n\u001b[1;32m    297\u001b[0m \u001b[39melse\u001b[39;00m:\n\u001b[1;32m    298\u001b[0m     func \u001b[39m=\u001b[39m _single_tensor_adam\n\u001b[0;32m--> 300\u001b[0m func(params,\n\u001b[1;32m    301\u001b[0m      grads,\n\u001b[1;32m    302\u001b[0m      exp_avgs,\n\u001b[1;32m    303\u001b[0m      exp_avg_sqs,\n\u001b[1;32m    304\u001b[0m      max_exp_avg_sqs,\n\u001b[1;32m    305\u001b[0m      state_steps,\n\u001b[1;32m    306\u001b[0m      amsgrad\u001b[39m=\u001b[39;49mamsgrad,\n\u001b[1;32m    307\u001b[0m      beta1\u001b[39m=\u001b[39;49mbeta1,\n\u001b[1;32m    308\u001b[0m      beta2\u001b[39m=\u001b[39;49mbeta2,\n\u001b[1;32m    309\u001b[0m      lr\u001b[39m=\u001b[39;49mlr,\n\u001b[1;32m    310\u001b[0m      weight_decay\u001b[39m=\u001b[39;49mweight_decay,\n\u001b[1;32m    311\u001b[0m      eps\u001b[39m=\u001b[39;49meps,\n\u001b[1;32m    312\u001b[0m      maximize\u001b[39m=\u001b[39;49mmaximize,\n\u001b[1;32m    313\u001b[0m      capturable\u001b[39m=\u001b[39;49mcapturable,\n\u001b[1;32m    314\u001b[0m      differentiable\u001b[39m=\u001b[39;49mdifferentiable,\n\u001b[1;32m    315\u001b[0m      grad_scale\u001b[39m=\u001b[39;49mgrad_scale,\n\u001b[1;32m    316\u001b[0m      found_inf\u001b[39m=\u001b[39;49mfound_inf)\n",
            "File \u001b[0;32m~/.local/share/virtualenvs/empathic-art-VdJ2KSTr/lib/python3.10/site-packages/torch/optim/adam.py:410\u001b[0m, in \u001b[0;36m_single_tensor_adam\u001b[0;34m(params, grads, exp_avgs, exp_avg_sqs, max_exp_avg_sqs, state_steps, grad_scale, found_inf, amsgrad, beta1, beta2, lr, weight_decay, eps, maximize, capturable, differentiable)\u001b[0m\n\u001b[1;32m    408\u001b[0m     denom \u001b[39m=\u001b[39m (max_exp_avg_sqs[i]\u001b[39m.\u001b[39msqrt() \u001b[39m/\u001b[39m bias_correction2_sqrt)\u001b[39m.\u001b[39madd_(eps)\n\u001b[1;32m    409\u001b[0m \u001b[39melse\u001b[39;00m:\n\u001b[0;32m--> 410\u001b[0m     denom \u001b[39m=\u001b[39m (exp_avg_sq\u001b[39m.\u001b[39;49msqrt() \u001b[39m/\u001b[39m bias_correction2_sqrt)\u001b[39m.\u001b[39madd_(eps)\n\u001b[1;32m    412\u001b[0m param\u001b[39m.\u001b[39maddcdiv_(exp_avg, denom, value\u001b[39m=\u001b[39m\u001b[39m-\u001b[39mstep_size)\n",
            "\u001b[0;31mOutOfMemoryError\u001b[0m: CUDA out of memory. Tried to allocate 626.00 MiB (GPU 0; 3.94 GiB total capacity; 2.73 GiB already allocated; 293.69 MiB free; 2.98 GiB reserved in total by PyTorch) If reserved memory is >> allocated memory try setting max_split_size_mb to avoid fragmentation.  See documentation for Memory Management and PYTORCH_CUDA_ALLOC_CONF"
          ]
        }
      ],
      "source": [
        "history = fit(epochs=1, lr=.0001, model=model, train_loader=train_loader, val_loader=val_loader)"
      ]
    },
    {
      "cell_type": "code",
      "execution_count": null,
      "metadata": {
        "id": "2YjpH9tudmL_"
      },
      "outputs": [],
      "source": [
        "torch.save(model.state_dict(), \"models/mfcc_model\")"
      ]
    },
    {
      "cell_type": "code",
      "execution_count": null,
      "metadata": {
        "id": "rzuPfvkEPz5o"
      },
      "outputs": [],
      "source": []
    }
  ],
  "metadata": {
    "accelerator": "GPU",
    "colab": {
      "provenance": []
    },
    "gpuClass": "standard",
    "kernelspec": {
      "display_name": "Python 3.10.6 ('empathic-art-VdJ2KSTr')",
      "language": "python",
      "name": "python3"
    },
    "language_info": {
      "codemirror_mode": {
        "name": "ipython",
        "version": 3
      },
      "file_extension": ".py",
      "mimetype": "text/x-python",
      "name": "python",
      "nbconvert_exporter": "python",
      "pygments_lexer": "ipython3",
      "version": "3.10.6"
    },
    "vscode": {
      "interpreter": {
        "hash": "e50c87813b58f42c33168ff8a825bf8dc8f12ff2146cb51a790b6579912f82a5"
      }
    }
  },
  "nbformat": 4,
  "nbformat_minor": 0
}
