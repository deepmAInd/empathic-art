{
 "cells": [
  {
   "cell_type": "markdown",
   "id": "ff7ba13a-9f56-40e4-a822-94d8fe411019",
   "metadata": {},
   "source": [
    "<center>\n",
    "    <h1> Dataset Extraction </h1>\n",
    "</center>"
   ]
  },
  {
   "cell_type": "code",
   "execution_count": 1,
   "id": "948f321f-b8ef-44e2-9ccb-3679156bab25",
   "metadata": {},
   "outputs": [],
   "source": [
    "import pandas as pd\n",
    "import numpy as np\n",
    "import os    \n",
    "\n",
    "import seaborn as sns\n",
    "import matplotlib.pyplot as plt\n",
    "\n",
    "import librosa  \n",
    "import librosa.display\n",
    "from IPython.display import Audio\n",
    "import warnings\n",
    "warnings.filterwarnings('ignore')"
   ]
  },
  {
   "cell_type": "code",
   "execution_count": 2,
   "id": "4093ac6b-9455-4eeb-88cf-abe11430434c",
   "metadata": {},
   "outputs": [
    {
     "data": {
      "text/html": [
       "<div>\n",
       "<style scoped>\n",
       "    .dataframe tbody tr th:only-of-type {\n",
       "        vertical-align: middle;\n",
       "    }\n",
       "\n",
       "    .dataframe tbody tr th {\n",
       "        vertical-align: top;\n",
       "    }\n",
       "\n",
       "    .dataframe thead th {\n",
       "        text-align: right;\n",
       "    }\n",
       "</style>\n",
       "<table border=\"1\" class=\"dataframe\">\n",
       "  <thead>\n",
       "    <tr style=\"text-align: right;\">\n",
       "      <th></th>\n",
       "      <th>source</th>\n",
       "      <th>dataname</th>\n",
       "      <th>speaker</th>\n",
       "      <th>emotion</th>\n",
       "      <th>intensity</th>\n",
       "      <th>duration</th>\n",
       "      <th>samplerate</th>\n",
       "      <th>gender</th>\n",
       "      <th>statement</th>\n",
       "      <th>filename</th>\n",
       "    </tr>\n",
       "  </thead>\n",
       "  <tbody>\n",
       "    <tr>\n",
       "      <th>0</th>\n",
       "      <td>https://zenodo.org/record/4066235#.Yz_WRNJBwUF</td>\n",
       "      <td>vivae</td>\n",
       "      <td>vivae_S10</td>\n",
       "      <td>achievement</td>\n",
       "      <td>strong</td>\n",
       "      <td>1</td>\n",
       "      <td>44100</td>\n",
       "      <td>NaN</td>\n",
       "      <td>NaN</td>\n",
       "      <td>S10_achievement_strong_01.wav</td>\n",
       "    </tr>\n",
       "    <tr>\n",
       "      <th>1</th>\n",
       "      <td>https://zenodo.org/record/4066235#.Yz_WRNJBwUF</td>\n",
       "      <td>vivae</td>\n",
       "      <td>vivae_S02</td>\n",
       "      <td>pain</td>\n",
       "      <td>strong</td>\n",
       "      <td>1</td>\n",
       "      <td>44100</td>\n",
       "      <td>NaN</td>\n",
       "      <td>NaN</td>\n",
       "      <td>S02_pain_strong_05.wav</td>\n",
       "    </tr>\n",
       "    <tr>\n",
       "      <th>2</th>\n",
       "      <td>https://zenodo.org/record/4066235#.Yz_WRNJBwUF</td>\n",
       "      <td>vivae</td>\n",
       "      <td>vivae_S08</td>\n",
       "      <td>surprise</td>\n",
       "      <td>low</td>\n",
       "      <td>1</td>\n",
       "      <td>44100</td>\n",
       "      <td>NaN</td>\n",
       "      <td>NaN</td>\n",
       "      <td>S08_surprise_low_02.wav</td>\n",
       "    </tr>\n",
       "    <tr>\n",
       "      <th>3</th>\n",
       "      <td>https://zenodo.org/record/4066235#.Yz_WRNJBwUF</td>\n",
       "      <td>vivae</td>\n",
       "      <td>vivae_S05</td>\n",
       "      <td>anger</td>\n",
       "      <td>peak</td>\n",
       "      <td>1</td>\n",
       "      <td>44100</td>\n",
       "      <td>NaN</td>\n",
       "      <td>NaN</td>\n",
       "      <td>S05_anger_peak_02.wav</td>\n",
       "    </tr>\n",
       "    <tr>\n",
       "      <th>4</th>\n",
       "      <td>https://zenodo.org/record/4066235#.Yz_WRNJBwUF</td>\n",
       "      <td>vivae</td>\n",
       "      <td>vivae_S08</td>\n",
       "      <td>anger</td>\n",
       "      <td>moderate</td>\n",
       "      <td>1</td>\n",
       "      <td>44100</td>\n",
       "      <td>NaN</td>\n",
       "      <td>NaN</td>\n",
       "      <td>S08_anger_moderate_07.wav</td>\n",
       "    </tr>\n",
       "    <tr>\n",
       "      <th>5</th>\n",
       "      <td>https://zenodo.org/record/4066235#.Yz_WRNJBwUF</td>\n",
       "      <td>vivae</td>\n",
       "      <td>vivae_S04</td>\n",
       "      <td>pain</td>\n",
       "      <td>strong</td>\n",
       "      <td>1</td>\n",
       "      <td>44100</td>\n",
       "      <td>NaN</td>\n",
       "      <td>NaN</td>\n",
       "      <td>S04_pain_strong_08.wav</td>\n",
       "    </tr>\n",
       "    <tr>\n",
       "      <th>6</th>\n",
       "      <td>https://zenodo.org/record/4066235#.Yz_WRNJBwUF</td>\n",
       "      <td>vivae</td>\n",
       "      <td>vivae_S07</td>\n",
       "      <td>surprise</td>\n",
       "      <td>peak</td>\n",
       "      <td>1</td>\n",
       "      <td>44100</td>\n",
       "      <td>NaN</td>\n",
       "      <td>NaN</td>\n",
       "      <td>S07_surprise_peak_041.wav</td>\n",
       "    </tr>\n",
       "    <tr>\n",
       "      <th>7</th>\n",
       "      <td>https://zenodo.org/record/4066235#.Yz_WRNJBwUF</td>\n",
       "      <td>vivae</td>\n",
       "      <td>vivae_S02</td>\n",
       "      <td>pain</td>\n",
       "      <td>moderate</td>\n",
       "      <td>1</td>\n",
       "      <td>44100</td>\n",
       "      <td>NaN</td>\n",
       "      <td>NaN</td>\n",
       "      <td>S02_pain_moderate_07.wav</td>\n",
       "    </tr>\n",
       "    <tr>\n",
       "      <th>8</th>\n",
       "      <td>https://zenodo.org/record/4066235#.Yz_WRNJBwUF</td>\n",
       "      <td>vivae</td>\n",
       "      <td>vivae_S05</td>\n",
       "      <td>pain</td>\n",
       "      <td>peak</td>\n",
       "      <td>1</td>\n",
       "      <td>44100</td>\n",
       "      <td>NaN</td>\n",
       "      <td>NaN</td>\n",
       "      <td>S05_pain_peak_05.wav</td>\n",
       "    </tr>\n",
       "    <tr>\n",
       "      <th>9</th>\n",
       "      <td>https://zenodo.org/record/4066235#.Yz_WRNJBwUF</td>\n",
       "      <td>vivae</td>\n",
       "      <td>vivae_S04</td>\n",
       "      <td>fear</td>\n",
       "      <td>peak</td>\n",
       "      <td>1</td>\n",
       "      <td>44100</td>\n",
       "      <td>NaN</td>\n",
       "      <td>NaN</td>\n",
       "      <td>S04_fear_peak_01.wav</td>\n",
       "    </tr>\n",
       "  </tbody>\n",
       "</table>\n",
       "</div>"
      ],
      "text/plain": [
       "                                           source dataname    speaker  \\\n",
       "0  https://zenodo.org/record/4066235#.Yz_WRNJBwUF    vivae  vivae_S10   \n",
       "1  https://zenodo.org/record/4066235#.Yz_WRNJBwUF    vivae  vivae_S02   \n",
       "2  https://zenodo.org/record/4066235#.Yz_WRNJBwUF    vivae  vivae_S08   \n",
       "3  https://zenodo.org/record/4066235#.Yz_WRNJBwUF    vivae  vivae_S05   \n",
       "4  https://zenodo.org/record/4066235#.Yz_WRNJBwUF    vivae  vivae_S08   \n",
       "5  https://zenodo.org/record/4066235#.Yz_WRNJBwUF    vivae  vivae_S04   \n",
       "6  https://zenodo.org/record/4066235#.Yz_WRNJBwUF    vivae  vivae_S07   \n",
       "7  https://zenodo.org/record/4066235#.Yz_WRNJBwUF    vivae  vivae_S02   \n",
       "8  https://zenodo.org/record/4066235#.Yz_WRNJBwUF    vivae  vivae_S05   \n",
       "9  https://zenodo.org/record/4066235#.Yz_WRNJBwUF    vivae  vivae_S04   \n",
       "\n",
       "       emotion intensity  duration  samplerate gender statement  \\\n",
       "0  achievement    strong         1       44100    NaN       NaN   \n",
       "1         pain    strong         1       44100    NaN       NaN   \n",
       "2     surprise       low         1       44100    NaN       NaN   \n",
       "3        anger      peak         1       44100    NaN       NaN   \n",
       "4        anger  moderate         1       44100    NaN       NaN   \n",
       "5         pain    strong         1       44100    NaN       NaN   \n",
       "6     surprise      peak         1       44100    NaN       NaN   \n",
       "7         pain  moderate         1       44100    NaN       NaN   \n",
       "8         pain      peak         1       44100    NaN       NaN   \n",
       "9         fear      peak         1       44100    NaN       NaN   \n",
       "\n",
       "                        filename  \n",
       "0  S10_achievement_strong_01.wav  \n",
       "1         S02_pain_strong_05.wav  \n",
       "2        S08_surprise_low_02.wav  \n",
       "3          S05_anger_peak_02.wav  \n",
       "4      S08_anger_moderate_07.wav  \n",
       "5         S04_pain_strong_08.wav  \n",
       "6      S07_surprise_peak_041.wav  \n",
       "7       S02_pain_moderate_07.wav  \n",
       "8           S05_pain_peak_05.wav  \n",
       "9           S04_fear_peak_01.wav  "
      ]
     },
     "execution_count": 2,
     "metadata": {},
     "output_type": "execute_result"
    }
   ],
   "source": [
    "df_sound_files = \"../../data/audio-files/\"\n",
    "df_ref = pd.read_csv(\"../../data/reference_df.csv\")\n",
    "df_ref.head(10)"
   ]
  },
  {
   "cell_type": "code",
   "execution_count": 3,
   "id": "f043d9f5-a7c8-4e18-aae0-c463823318a5",
   "metadata": {},
   "outputs": [
    {
     "name": "stdout",
     "output_type": "stream",
     "text": [
      "Dataset is Loaded\n"
     ]
    }
   ],
   "source": [
    "paths = []  \n",
    "labels = []\n",
    "\n",
    "for dirname, _, filenames in os.walk('../../data/audio-files/'):\n",
    "    for filename in filenames:\n",
    "        paths.append(os.path.join(dirname, filename))\n",
    "        label = filename.split('_')[-1]  #to store the label such as fear happy sad\n",
    "        label = label.split('.')[0]\n",
    "        labels.append(label.lower())\n",
    "    if len(paths) == 4720:\n",
    "        break\n",
    "        \n",
    "print('Dataset is Loaded')"
   ]
  },
  {
   "cell_type": "code",
   "execution_count": 4,
   "id": "6303b2aa-8d27-4110-a638-cf0ceea93617",
   "metadata": {},
   "outputs": [
    {
     "data": {
      "text/plain": [
       "4720"
      ]
     },
     "execution_count": 4,
     "metadata": {},
     "output_type": "execute_result"
    }
   ],
   "source": [
    "len(paths)"
   ]
  },
  {
   "cell_type": "code",
   "execution_count": 5,
   "id": "6e862c6b-99a8-47b9-bcf9-605879dcab12",
   "metadata": {},
   "outputs": [],
   "source": [
    "labels = df_ref[\"emotion\"]"
   ]
  },
  {
   "cell_type": "code",
   "execution_count": 6,
   "id": "73367fdf-8b29-46b0-9a96-4ee57bbaf979",
   "metadata": {},
   "outputs": [
    {
     "data": {
      "text/plain": [
       "0     achievement\n",
       "7            pain\n",
       "14           fear\n",
       "21       surprise\n",
       "28          anger\n",
       "35          anger\n",
       "42           fear\n",
       "49       pleasure\n",
       "56    achievement\n",
       "63       pleasure\n",
       "70    achievement\n",
       "77    achievement\n",
       "84    achievement\n",
       "91    achievement\n",
       "98    achievement\n",
       "Name: emotion, dtype: object"
      ]
     },
     "execution_count": 6,
     "metadata": {},
     "output_type": "execute_result"
    }
   ],
   "source": [
    "labels[:100:7]"
   ]
  },
  {
   "cell_type": "code",
   "execution_count": 7,
   "id": "6e8f2e7b-3d41-460f-9298-499e772c8e5b",
   "metadata": {},
   "outputs": [
    {
     "data": {
      "text/html": [
       "<div>\n",
       "<style scoped>\n",
       "    .dataframe tbody tr th:only-of-type {\n",
       "        vertical-align: middle;\n",
       "    }\n",
       "\n",
       "    .dataframe tbody tr th {\n",
       "        vertical-align: top;\n",
       "    }\n",
       "\n",
       "    .dataframe thead th {\n",
       "        text-align: right;\n",
       "    }\n",
       "</style>\n",
       "<table border=\"1\" class=\"dataframe\">\n",
       "  <thead>\n",
       "    <tr style=\"text-align: right;\">\n",
       "      <th></th>\n",
       "      <th>files</th>\n",
       "      <th>label</th>\n",
       "    </tr>\n",
       "  </thead>\n",
       "  <tbody>\n",
       "    <tr>\n",
       "      <th>0</th>\n",
       "      <td>../../data/audio-files/03-01-01-01-01-01-01.wav</td>\n",
       "      <td>achievement</td>\n",
       "    </tr>\n",
       "    <tr>\n",
       "      <th>1</th>\n",
       "      <td>../../data/audio-files/03-01-01-01-01-01-02.wav</td>\n",
       "      <td>pain</td>\n",
       "    </tr>\n",
       "    <tr>\n",
       "      <th>2</th>\n",
       "      <td>../../data/audio-files/03-01-01-01-01-01-03.wav</td>\n",
       "      <td>surprise</td>\n",
       "    </tr>\n",
       "    <tr>\n",
       "      <th>3</th>\n",
       "      <td>../../data/audio-files/03-01-01-01-01-01-04.wav</td>\n",
       "      <td>anger</td>\n",
       "    </tr>\n",
       "    <tr>\n",
       "      <th>4</th>\n",
       "      <td>../../data/audio-files/03-01-01-01-01-01-05.wav</td>\n",
       "      <td>anger</td>\n",
       "    </tr>\n",
       "  </tbody>\n",
       "</table>\n",
       "</div>"
      ],
      "text/plain": [
       "                                             files        label\n",
       "0  ../../data/audio-files/03-01-01-01-01-01-01.wav  achievement\n",
       "1  ../../data/audio-files/03-01-01-01-01-01-02.wav         pain\n",
       "2  ../../data/audio-files/03-01-01-01-01-01-03.wav     surprise\n",
       "3  ../../data/audio-files/03-01-01-01-01-01-04.wav        anger\n",
       "4  ../../data/audio-files/03-01-01-01-01-01-05.wav        anger"
      ]
     },
     "execution_count": 7,
     "metadata": {},
     "output_type": "execute_result"
    }
   ],
   "source": [
    "df = pd.DataFrame()\n",
    "df['files'] = paths #input as speech\n",
    "df['label'] = labels #output as label\n",
    "df.head()"
   ]
  },
  {
   "cell_type": "code",
   "execution_count": 8,
   "id": "5fbef020-de97-4556-9aef-d12f7605ec82",
   "metadata": {},
   "outputs": [],
   "source": [
    "df.to_csv('../../data/main_df.csv')  "
   ]
  },
  {
   "cell_type": "code",
   "execution_count": 9,
   "id": "d2efc155-f42e-4322-b2a0-b713edc11ecf",
   "metadata": {},
   "outputs": [],
   "source": [
    "df = pd.read_csv(\"../../data/main_df.csv\")"
   ]
  },
  {
   "cell_type": "code",
   "execution_count": 10,
   "id": "a6560f63-926e-4c1b-81a1-1b5ad64ceadb",
   "metadata": {},
   "outputs": [
    {
     "data": {
      "text/plain": [
       "neutral        688\n",
       "surprise       672\n",
       "anger          672\n",
       "fear           672\n",
       "sad            592\n",
       "happy          592\n",
       "disgust        592\n",
       "achievement     80\n",
       "pain            80\n",
       "pleasure        80\n",
       "Name: label, dtype: int64"
      ]
     },
     "execution_count": 10,
     "metadata": {},
     "output_type": "execute_result"
    }
   ],
   "source": [
    "df['label'].value_counts()"
   ]
  }
 ],
 "metadata": {
  "kernelspec": {
   "display_name": "Python 3 (ipykernel)",
   "language": "python",
   "name": "python3"
  },
  "language_info": {
   "codemirror_mode": {
    "name": "ipython",
    "version": 3
   },
   "file_extension": ".py",
   "mimetype": "text/x-python",
   "name": "python",
   "nbconvert_exporter": "python",
   "pygments_lexer": "ipython3",
   "version": "3.8.8"
  }
 },
 "nbformat": 4,
 "nbformat_minor": 5
}
