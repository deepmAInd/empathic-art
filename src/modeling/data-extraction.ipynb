{
 "cells": [
  {
   "cell_type": "markdown",
   "id": "ff7ba13a-9f56-40e4-a822-94d8fe411019",
   "metadata": {},
   "source": [
    "<center>\n",
    "    <h1> Dataset Extraction </h1>\n",
    "</center>"
   ]
  },
  {
   "cell_type": "code",
   "execution_count": 1,
   "id": "948f321f-b8ef-44e2-9ccb-3679156bab25",
   "metadata": {},
   "outputs": [],
   "source": [
    "import pandas as pd\n",
    "import numpy as np\n",
    "import os    \n",
    "\n",
    "import seaborn as sns\n",
    "import matplotlib.pyplot as plt\n",
    "\n",
    "import librosa  \n",
    "import librosa.display\n",
    "from IPython.display import Audio\n",
    "import warnings\n",
    "warnings.filterwarnings('ignore')"
   ]
  },
  {
   "cell_type": "code",
   "execution_count": 2,
   "id": "192ece7b-adaf-4195-be12-83d833711b09",
   "metadata": {},
   "outputs": [],
   "source": [
    "data = \"../../data/audio-files/\""
   ]
  },
  {
   "cell_type": "code",
   "execution_count": 3,
   "id": "ac7b6924-0e4e-4e3e-a836-7b8ac9ff48bf",
   "metadata": {},
   "outputs": [],
   "source": [
    "filepath = []\n",
    "file_name = []\n",
    "total = [] \n",
    "for filename in os.listdir(data):\n",
    "    if filename.endswith(\".wav\"): \n",
    "        file_name.append(filename)\n",
    "        filepath.append(data)"
   ]
  },
  {
   "cell_type": "code",
   "execution_count": 4,
   "id": "f592decb-04e5-4a64-9941-409d135854e2",
   "metadata": {},
   "outputs": [],
   "source": [
    "merged = [\"\".join(x) for x in zip(filepath, file_name)]"
   ]
  },
  {
   "cell_type": "code",
   "execution_count": 5,
   "id": "c471d8ef-fbab-4a4f-a80d-a57445c3f4b5",
   "metadata": {},
   "outputs": [],
   "source": [
    "dictionary = dict(zip(file_name, merged))"
   ]
  },
  {
   "cell_type": "code",
   "execution_count": 6,
   "id": "4d943e57-7324-4b19-8c75-01bd02641fa2",
   "metadata": {},
   "outputs": [],
   "source": [
    "df = pd.read_csv(\"../../data/merged_data.csv\")"
   ]
  },
  {
   "cell_type": "code",
   "execution_count": 7,
   "id": "70f3548e-698a-40c9-8827-90b8743a183f",
   "metadata": {},
   "outputs": [
    {
     "data": {
      "text/html": [
       "<div>\n",
       "<style scoped>\n",
       "    .dataframe tbody tr th:only-of-type {\n",
       "        vertical-align: middle;\n",
       "    }\n",
       "\n",
       "    .dataframe tbody tr th {\n",
       "        vertical-align: top;\n",
       "    }\n",
       "\n",
       "    .dataframe thead th {\n",
       "        text-align: right;\n",
       "    }\n",
       "</style>\n",
       "<table border=\"1\" class=\"dataframe\">\n",
       "  <thead>\n",
       "    <tr style=\"text-align: right;\">\n",
       "      <th></th>\n",
       "      <th>file_name</th>\n",
       "      <th>Speaker</th>\n",
       "      <th>Emotion</th>\n",
       "      <th>Intensity</th>\n",
       "      <th>Dataframe</th>\n",
       "      <th>Duration</th>\n",
       "      <th>Word</th>\n",
       "      <th>Type</th>\n",
       "      <th>Gender</th>\n",
       "      <th>file_path</th>\n",
       "      <th>emotion</th>\n",
       "    </tr>\n",
       "  </thead>\n",
       "  <tbody>\n",
       "    <tr>\n",
       "      <th>0</th>\n",
       "      <td>S04_fear_peak_03.wav</td>\n",
       "      <td>S04</td>\n",
       "      <td>Fear</td>\n",
       "      <td>peak</td>\n",
       "      <td>VIVAE</td>\n",
       "      <td>0.752472</td>\n",
       "      <td>NaN</td>\n",
       "      <td>Sound</td>\n",
       "      <td>NaN</td>\n",
       "      <td>../../data/audio-files/S04_fear_peak_03.wav</td>\n",
       "      <td>Fear</td>\n",
       "    </tr>\n",
       "    <tr>\n",
       "      <th>3</th>\n",
       "      <td>S04_pain_strong_08.wav</td>\n",
       "      <td>S04</td>\n",
       "      <td>Pain</td>\n",
       "      <td>strong</td>\n",
       "      <td>VIVAE</td>\n",
       "      <td>0.752472</td>\n",
       "      <td>NaN</td>\n",
       "      <td>Sound</td>\n",
       "      <td>NaN</td>\n",
       "      <td>../../data/audio-files/S04_pain_strong_08.wav</td>\n",
       "      <td>Pain</td>\n",
       "    </tr>\n",
       "    <tr>\n",
       "      <th>4</th>\n",
       "      <td>S04_fear_strong_05.wav</td>\n",
       "      <td>S04</td>\n",
       "      <td>Fear</td>\n",
       "      <td>strong</td>\n",
       "      <td>VIVAE</td>\n",
       "      <td>0.672404</td>\n",
       "      <td>NaN</td>\n",
       "      <td>Sound</td>\n",
       "      <td>NaN</td>\n",
       "      <td>../../data/audio-files/S04_fear_strong_05.wav</td>\n",
       "      <td>Fear</td>\n",
       "    </tr>\n",
       "    <tr>\n",
       "      <th>5</th>\n",
       "      <td>S08_pain_peak_01.wav</td>\n",
       "      <td>S08</td>\n",
       "      <td>Pain</td>\n",
       "      <td>peak</td>\n",
       "      <td>VIVAE</td>\n",
       "      <td>0.536463</td>\n",
       "      <td>NaN</td>\n",
       "      <td>Sound</td>\n",
       "      <td>NaN</td>\n",
       "      <td>../../data/audio-files/S08_pain_peak_01.wav</td>\n",
       "      <td>Pain</td>\n",
       "    </tr>\n",
       "    <tr>\n",
       "      <th>6</th>\n",
       "      <td>S06_fear_moderate_03.wav</td>\n",
       "      <td>S06</td>\n",
       "      <td>Fear</td>\n",
       "      <td>moderate</td>\n",
       "      <td>VIVAE</td>\n",
       "      <td>0.752472</td>\n",
       "      <td>NaN</td>\n",
       "      <td>Sound</td>\n",
       "      <td>NaN</td>\n",
       "      <td>../../data/audio-files/S06_fear_moderate_03.wav</td>\n",
       "      <td>Fear</td>\n",
       "    </tr>\n",
       "  </tbody>\n",
       "</table>\n",
       "</div>"
      ],
      "text/plain": [
       "                  file_name Speaker Emotion Intensity Dataframe  Duration  \\\n",
       "0      S04_fear_peak_03.wav     S04    Fear      peak     VIVAE  0.752472   \n",
       "3    S04_pain_strong_08.wav     S04    Pain    strong     VIVAE  0.752472   \n",
       "4    S04_fear_strong_05.wav     S04    Fear    strong     VIVAE  0.672404   \n",
       "5      S08_pain_peak_01.wav     S08    Pain      peak     VIVAE  0.536463   \n",
       "6  S06_fear_moderate_03.wav     S06    Fear  moderate     VIVAE  0.752472   \n",
       "\n",
       "  Word   Type Gender                                        file_path emotion  \n",
       "0  NaN  Sound    NaN      ../../data/audio-files/S04_fear_peak_03.wav    Fear  \n",
       "3  NaN  Sound    NaN    ../../data/audio-files/S04_pain_strong_08.wav    Pain  \n",
       "4  NaN  Sound    NaN    ../../data/audio-files/S04_fear_strong_05.wav    Fear  \n",
       "5  NaN  Sound    NaN      ../../data/audio-files/S08_pain_peak_01.wav    Pain  \n",
       "6  NaN  Sound    NaN  ../../data/audio-files/S06_fear_moderate_03.wav    Fear  "
      ]
     },
     "execution_count": 7,
     "metadata": {},
     "output_type": "execute_result"
    }
   ],
   "source": [
    "df[\"file_path\"] = df[\"file_name\"].map(dictionary)\n",
    "df[\"emotion\"] = df[\"Emotion\"].str.capitalize()\n",
    "df = df[df[\"Emotion\"] != \"Pleasure\"]\n",
    "df.head()"
   ]
  },
  {
   "cell_type": "code",
   "execution_count": 8,
   "id": "d441b99b-6901-4023-9c88-f49daad3e88e",
   "metadata": {},
   "outputs": [
    {
     "data": {
      "text/plain": [
       "array(['Fear', 'Pain', 'Surprise', 'Angry', 'Achievement', 'Calm', 'Sad',\n",
       "       'Happy', 'Ps', 'Disgust'], dtype=object)"
      ]
     },
     "execution_count": 8,
     "metadata": {},
     "output_type": "execute_result"
    }
   ],
   "source": [
    "df[\"emotion\"].unique()"
   ]
  },
  {
   "cell_type": "code",
   "execution_count": 12,
   "id": "3258335d-cc6e-4aa8-9775-b45261197f63",
   "metadata": {},
   "outputs": [],
   "source": [
    "df.emotion.replace('Ps','Surprise',inplace=True)"
   ]
  },
  {
   "cell_type": "code",
   "execution_count": 13,
   "id": "539cd36f-d848-409d-b3b1-5cc07acbbf3b",
   "metadata": {},
   "outputs": [
    {
     "data": {
      "text/plain": [
       "array(['Fear', 'Pain', 'Surprise', 'Angry', 'Achievement', 'Calm', 'Sad',\n",
       "       'Happy', 'Disgust'], dtype=object)"
      ]
     },
     "execution_count": 13,
     "metadata": {},
     "output_type": "execute_result"
    }
   ],
   "source": [
    "df[\"emotion\"].unique()"
   ]
  },
  {
   "cell_type": "code",
   "execution_count": 14,
   "id": "a60abcd0-78dd-43cc-b6ec-7779a75bacf3",
   "metadata": {},
   "outputs": [],
   "source": [
    "df.drop([\"file_name\", \"Speaker\", \"Emotion\", \"Intensity\", \"Dataframe\", \"Duration\", \"Word\", \"Type\", \"Gender\"], inplace=True, axis=1)"
   ]
  },
  {
   "cell_type": "code",
   "execution_count": 15,
   "id": "ab68a713-4e4d-4d86-8b39-079aff1e65bf",
   "metadata": {},
   "outputs": [
    {
     "data": {
      "text/html": [
       "<div>\n",
       "<style scoped>\n",
       "    .dataframe tbody tr th:only-of-type {\n",
       "        vertical-align: middle;\n",
       "    }\n",
       "\n",
       "    .dataframe tbody tr th {\n",
       "        vertical-align: top;\n",
       "    }\n",
       "\n",
       "    .dataframe thead th {\n",
       "        text-align: right;\n",
       "    }\n",
       "</style>\n",
       "<table border=\"1\" class=\"dataframe\">\n",
       "  <thead>\n",
       "    <tr style=\"text-align: right;\">\n",
       "      <th></th>\n",
       "      <th>file_path</th>\n",
       "      <th>emotion</th>\n",
       "    </tr>\n",
       "  </thead>\n",
       "  <tbody>\n",
       "    <tr>\n",
       "      <th>0</th>\n",
       "      <td>../../data/audio-files/S04_fear_peak_03.wav</td>\n",
       "      <td>Fear</td>\n",
       "    </tr>\n",
       "    <tr>\n",
       "      <th>3</th>\n",
       "      <td>../../data/audio-files/S04_pain_strong_08.wav</td>\n",
       "      <td>Pain</td>\n",
       "    </tr>\n",
       "    <tr>\n",
       "      <th>4</th>\n",
       "      <td>../../data/audio-files/S04_fear_strong_05.wav</td>\n",
       "      <td>Fear</td>\n",
       "    </tr>\n",
       "    <tr>\n",
       "      <th>5</th>\n",
       "      <td>../../data/audio-files/S08_pain_peak_01.wav</td>\n",
       "      <td>Pain</td>\n",
       "    </tr>\n",
       "    <tr>\n",
       "      <th>6</th>\n",
       "      <td>../../data/audio-files/S06_fear_moderate_03.wav</td>\n",
       "      <td>Fear</td>\n",
       "    </tr>\n",
       "    <tr>\n",
       "      <th>...</th>\n",
       "      <td>...</td>\n",
       "      <td>...</td>\n",
       "    </tr>\n",
       "    <tr>\n",
       "      <th>4715</th>\n",
       "      <td>../../data/audio-files/03-01-06-01-02-01-03.wav</td>\n",
       "      <td>Fear</td>\n",
       "    </tr>\n",
       "    <tr>\n",
       "      <th>4716</th>\n",
       "      <td>../../data/audio-files/03-01-06-02-01-02-03.wav</td>\n",
       "      <td>Fear</td>\n",
       "    </tr>\n",
       "    <tr>\n",
       "      <th>4717</th>\n",
       "      <td>../../data/audio-files/03-01-07-01-02-02-03.wav</td>\n",
       "      <td>Disgust</td>\n",
       "    </tr>\n",
       "    <tr>\n",
       "      <th>4718</th>\n",
       "      <td>../../data/audio-files/03-01-07-02-01-02-03.wav</td>\n",
       "      <td>Disgust</td>\n",
       "    </tr>\n",
       "    <tr>\n",
       "      <th>4719</th>\n",
       "      <td>../../data/audio-files/03-01-07-02-02-01-03.wav</td>\n",
       "      <td>Disgust</td>\n",
       "    </tr>\n",
       "  </tbody>\n",
       "</table>\n",
       "<p>4640 rows × 2 columns</p>\n",
       "</div>"
      ],
      "text/plain": [
       "                                            file_path  emotion\n",
       "0         ../../data/audio-files/S04_fear_peak_03.wav     Fear\n",
       "3       ../../data/audio-files/S04_pain_strong_08.wav     Pain\n",
       "4       ../../data/audio-files/S04_fear_strong_05.wav     Fear\n",
       "5         ../../data/audio-files/S08_pain_peak_01.wav     Pain\n",
       "6     ../../data/audio-files/S06_fear_moderate_03.wav     Fear\n",
       "...                                               ...      ...\n",
       "4715  ../../data/audio-files/03-01-06-01-02-01-03.wav     Fear\n",
       "4716  ../../data/audio-files/03-01-06-02-01-02-03.wav     Fear\n",
       "4717  ../../data/audio-files/03-01-07-01-02-02-03.wav  Disgust\n",
       "4718  ../../data/audio-files/03-01-07-02-01-02-03.wav  Disgust\n",
       "4719  ../../data/audio-files/03-01-07-02-02-01-03.wav  Disgust\n",
       "\n",
       "[4640 rows x 2 columns]"
      ]
     },
     "execution_count": 15,
     "metadata": {},
     "output_type": "execute_result"
    }
   ],
   "source": [
    "df"
   ]
  },
  {
   "cell_type": "code",
   "execution_count": 16,
   "id": "a6560f63-926e-4c1b-81a1-1b5ad64ceadb",
   "metadata": {},
   "outputs": [
    {
     "data": {
      "text/plain": [
       "Calm           688\n",
       "Fear           672\n",
       "Surprise       672\n",
       "Angry          672\n",
       "Sad            592\n",
       "Happy          592\n",
       "Disgust        592\n",
       "Pain            80\n",
       "Achievement     80\n",
       "Name: emotion, dtype: int64"
      ]
     },
     "execution_count": 16,
     "metadata": {},
     "output_type": "execute_result"
    }
   ],
   "source": [
    "df['emotion'].value_counts()"
   ]
  },
  {
   "cell_type": "code",
   "execution_count": 17,
   "id": "5fbef020-de97-4556-9aef-d12f7605ec82",
   "metadata": {},
   "outputs": [],
   "source": [
    "df.to_csv('../../data/final_df.csv')  "
   ]
  },
  {
   "cell_type": "code",
   "execution_count": 18,
   "id": "d2efc155-f42e-4322-b2a0-b713edc11ecf",
   "metadata": {},
   "outputs": [],
   "source": [
    "df = pd.read_csv(\"../../data/final_df.csv\")"
   ]
  }
 ],
 "metadata": {
  "kernelspec": {
   "display_name": "Python 3 (ipykernel)",
   "language": "python",
   "name": "python3"
  },
  "language_info": {
   "codemirror_mode": {
    "name": "ipython",
    "version": 3
   },
   "file_extension": ".py",
   "mimetype": "text/x-python",
   "name": "python",
   "nbconvert_exporter": "python",
   "pygments_lexer": "ipython3",
   "version": "3.8.8"
  }
 },
 "nbformat": 4,
 "nbformat_minor": 5
}
