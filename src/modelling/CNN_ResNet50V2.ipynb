{
 "cells": [
  {
   "cell_type": "code",
   "execution_count": 58,
   "metadata": {
    "collapsed": true
   },
   "outputs": [],
   "source": [
    "import os\n",
    "\n",
    "import pandas as pd\n",
    "import numpy as np\n",
    "import matplotlib.pyplot as plt\n",
    "import IPython.display as ipd\n",
    "import pydub\n",
    "from pydub import AudioSegment, effects\n",
    "import librosa\n",
    "from librosa import display\n",
    "import noisereduce as nr\n",
    "import tensorflow as tf\n",
    "import keras\n",
    "import sklearn\n",
    "\n",
    "from tqdm import tqdm\n",
    "\n",
    "import skimage.io\n",
    "from skimage.transform import rescale, resize, downscale_local_mean\n",
    "from skimage.util import img_as_ubyte"
   ]
  },
  {
   "cell_type": "code",
   "execution_count": 59,
   "outputs": [],
   "source": [
    "IMG_SIZE = (224, 224)\n",
    "SEGMENT_DURATION = 5\n",
    "SEGMENT_STEP = 2\n",
    "\n",
    "NOICE_REDUCTION = True\n",
    "\n",
    "TAG = f'nr{NOICE_REDUCTION}_step{SEGMENT_STEP}s_len{SEGMENT_DURATION}s'"
   ],
   "metadata": {
    "collapsed": false
   }
  },
  {
   "cell_type": "code",
   "execution_count": 60,
   "outputs": [],
   "source": [
    "OUTPUT_FOLDER = f'../../data/prepared/mel-spectrogram/combined/prepared_images_{IMG_SIZE[0]}_step{SEGMENT_STEP}s_len{SEGMENT_DURATION}s'\n",
    "EMOTIONS = ['happy', 'surprise', 'anger', 'sad', 'neutral', 'disgust', 'fear']\n",
    "\n",
    "EMOTIONS_MAP = {\n",
    "    'happy': 0,\n",
    "    'surprise': 1,\n",
    "    'anger': 2,\n",
    "    'sad': 3,\n",
    "    'neutral': 4,\n",
    "    'disgust': 5,\n",
    "    'fear': 6\n",
    "}\n",
    "#\n",
    "# IMG_SIZE = (299, 299)\n",
    "# AUDIO_LENGTH = 5\n",
    "#\n",
    "# if not os.path.isdir(OUTPUT_FOLDER):\n",
    "#     os.mkdir(OUTPUT_FOLDER)\n",
    "#\n",
    "# for emotion in EMOTIONS:\n",
    "#     if not os.path.isdir(f'{OUTPUT_FOLDER}/{emotion}'):\n",
    "#         os.mkdir(f'{OUTPUT_FOLDER}/{emotion}')"
   ],
   "metadata": {
    "collapsed": false
   }
  },
  {
   "cell_type": "markdown",
   "source": [
    "# Modelling"
   ],
   "metadata": {
    "collapsed": false
   }
  },
  {
   "cell_type": "code",
   "execution_count": 61,
   "outputs": [],
   "source": [
    "import random\n",
    "\n",
    "from tensorflow.keras.models import Sequential\n",
    "from tensorflow.keras.layers import Dense, Flatten\n",
    "\n",
    "from sklearn.model_selection import train_test_split"
   ],
   "metadata": {
    "collapsed": false
   }
  },
  {
   "cell_type": "code",
   "execution_count": 62,
   "outputs": [],
   "source": [
    "EPOCHS = 50"
   ],
   "metadata": {
    "collapsed": false
   }
  },
  {
   "cell_type": "code",
   "execution_count": 63,
   "outputs": [
    {
     "name": "stderr",
     "output_type": "stream",
     "text": [
      "100%|██████████| 345/345 [00:00<00:00, 487.29it/s]\n",
      "100%|██████████| 371/371 [00:00<00:00, 445.38it/s]\n",
      "100%|██████████| 412/412 [00:00<00:00, 507.04it/s]\n",
      "100%|██████████| 397/397 [00:00<00:00, 634.38it/s]\n",
      "100%|██████████| 469/469 [00:00<00:00, 631.47it/s]\n",
      "100%|██████████| 439/439 [00:00<00:00, 643.49it/s]\n",
      "100%|██████████| 352/352 [00:00<00:00, 631.96it/s]\n"
     ]
    }
   ],
   "source": [
    "images = []\n",
    "labels = []\n",
    "\n",
    "for emotion in EMOTIONS:\n",
    "    for img in tqdm(os.listdir(f'{OUTPUT_FOLDER}/{emotion}')):\n",
    "\n",
    "        images.append(np.array(skimage.io.imread(f'{OUTPUT_FOLDER}/{emotion}/{img}')))\n",
    "        labels.append(emotion)"
   ],
   "metadata": {
    "collapsed": false
   }
  },
  {
   "cell_type": "code",
   "execution_count": 64,
   "outputs": [
    {
     "data": {
      "text/plain": "2785"
     },
     "execution_count": 64,
     "metadata": {},
     "output_type": "execute_result"
    }
   ],
   "source": [
    "len(images)"
   ],
   "metadata": {
    "collapsed": false
   }
  },
  {
   "cell_type": "code",
   "execution_count": 65,
   "outputs": [],
   "source": [
    "for index, img in enumerate(images):\n",
    "    if img.shape[0] != 224 or img.shape[1] != 224:\n",
    "        print (img.shape)\n",
    "        print (index)"
   ],
   "metadata": {
    "collapsed": false
   }
  },
  {
   "cell_type": "code",
   "execution_count": 66,
   "outputs": [
    {
     "name": "stdout",
     "output_type": "stream",
     "text": [
      "(2785, 224, 224, 3)\n"
     ]
    }
   ],
   "source": [
    "images = np.array(images) / 255\n",
    "\n",
    "tmp = list(zip(images, labels))\n",
    "random.shuffle(tmp)\n",
    "\n",
    "images, labels = zip(*tmp)\n",
    "images = np.array(images)\n",
    "\n",
    "images = np.repeat(images[..., np.newaxis], 3, -1)# (64, 224, 224, 3)\n",
    "print(images.shape)"
   ],
   "metadata": {
    "collapsed": false
   }
  },
  {
   "cell_type": "code",
   "execution_count": 67,
   "outputs": [],
   "source": [
    "labels = np.array(labels)\n",
    "df__ = pd.Series(labels)\n",
    "labels = df__.map(EMOTIONS_MAP)\n",
    "labels = tf.keras.utils.to_categorical(np.array(labels), len(EMOTIONS))"
   ],
   "metadata": {
    "collapsed": false
   }
  },
  {
   "cell_type": "code",
   "execution_count": 68,
   "outputs": [],
   "source": [
    "# X_train, X_test, y_train, y_test = train_test_split(images, labels, test_size=0.33, random_state=42)"
   ],
   "metadata": {
    "collapsed": false
   }
  },
  {
   "cell_type": "code",
   "execution_count": 71,
   "outputs": [],
   "source": [
    "def build_model():\n",
    "    model = Sequential()\n",
    "    model.add(tf.keras.applications.ResNet50V2(\n",
    "        include_top=False,\n",
    "        weights=\"imagenet\",\n",
    "        pooling=\"avg\"\n",
    "    ))\n",
    "\n",
    "    model.add(Dense(512, activation='relu'))\n",
    "    model.add(Dense(256, activation='relu'))\n",
    "    model.add(Dense(len(EMOTIONS), activation='softmax'))\n",
    "\n",
    "    # We don't need to retrain ResNet50\n",
    "    model.layers[0].trainable = False\n",
    "\n",
    "    model.compile(optimizer=tf.keras.optimizers.Nadam(learning_rate = 0.001),\n",
    "                  loss=tf.keras.losses.CategoricalCrossentropy(from_logits=False),\n",
    "                  metrics=['accuracy'])\n",
    "\n",
    "    return model"
   ],
   "metadata": {
    "collapsed": false
   }
  },
  {
   "cell_type": "code",
   "execution_count": 72,
   "outputs": [
    {
     "name": "stdout",
     "output_type": "stream",
     "text": [
      "Model: \"sequential_4\"\n",
      "_________________________________________________________________\n",
      " Layer (type)                Output Shape              Param #   \n",
      "=================================================================\n",
      " resnet50v2 (Functional)     (None, 2048)              23564800  \n",
      "                                                                 \n",
      " dense_11 (Dense)            (None, 512)               1049088   \n",
      "                                                                 \n",
      " dense_12 (Dense)            (None, 256)               131328    \n",
      "                                                                 \n",
      " dense_13 (Dense)            (None, 7)                 1799      \n",
      "                                                                 \n",
      "=================================================================\n",
      "Total params: 24,747,015\n",
      "Trainable params: 1,182,215\n",
      "Non-trainable params: 23,564,800\n",
      "_________________________________________________________________\n"
     ]
    }
   ],
   "source": [
    "model = build_model()\n",
    "model.summary()"
   ],
   "metadata": {
    "collapsed": false
   }
  },
  {
   "cell_type": "code",
   "execution_count": 73,
   "outputs": [],
   "source": [
    "stop_early = tf.keras.callbacks.EarlyStopping(monitor='val_loss', patience=5)"
   ],
   "metadata": {
    "collapsed": false
   }
  },
  {
   "cell_type": "code",
   "execution_count": 74,
   "outputs": [
    {
     "data": {
      "text/plain": "8817"
     },
     "execution_count": 74,
     "metadata": {},
     "output_type": "execute_result"
    }
   ],
   "source": [
    "import gc\n",
    "gc.collect()"
   ],
   "metadata": {
    "collapsed": false
   }
  },
  {
   "cell_type": "code",
   "execution_count": 75,
   "outputs": [
    {
     "name": "stdout",
     "output_type": "stream",
     "text": [
      "Epoch 1/20\n",
      "348/348 [==============================] - 42s 108ms/step - loss: 0.6943 - accuracy: 0.7390 - val_loss: 0.5028 - val_accuracy: 0.8049\n",
      "Epoch 2/20\n",
      "348/348 [==============================] - 37s 107ms/step - loss: 0.3219 - accuracy: 0.8793 - val_loss: 0.3014 - val_accuracy: 0.8996\n",
      "Epoch 3/20\n",
      "348/348 [==============================] - 37s 107ms/step - loss: 0.2409 - accuracy: 0.9104 - val_loss: 0.2534 - val_accuracy: 0.9067\n",
      "Epoch 4/20\n",
      "348/348 [==============================] - 37s 108ms/step - loss: 0.1610 - accuracy: 0.9373 - val_loss: 0.2898 - val_accuracy: 0.8867\n",
      "Epoch 5/20\n",
      "348/348 [==============================] - 37s 107ms/step - loss: 0.1480 - accuracy: 0.9468 - val_loss: 0.2857 - val_accuracy: 0.8938\n",
      "Epoch 6/20\n",
      "348/348 [==============================] - 39s 113ms/step - loss: 0.1087 - accuracy: 0.9602 - val_loss: 0.2873 - val_accuracy: 0.9096\n",
      "Epoch 7/20\n",
      "348/348 [==============================] - 40s 115ms/step - loss: 0.0662 - accuracy: 0.9756 - val_loss: 0.6149 - val_accuracy: 0.8537\n",
      "Epoch 8/20\n",
      "348/348 [==============================] - 40s 116ms/step - loss: 0.0991 - accuracy: 0.9655 - val_loss: 0.4244 - val_accuracy: 0.8867\n"
     ]
    }
   ],
   "source": [
    "train_history = model.fit(images[:int(len(images))], labels[:int(len(labels))], epochs=20, validation_split=0.25, callbacks=[stop_early], shuffle=True, batch_size=6)"
   ],
   "metadata": {
    "collapsed": false
   }
  },
  {
   "cell_type": "code",
   "execution_count": 76,
   "outputs": [
    {
     "name": "stdout",
     "output_type": "stream",
     "text": [
      "Best epoch: 6\n"
     ]
    }
   ],
   "source": [
    "val_acc_per_epoch = train_history.history['val_accuracy']\n",
    "best_epoch = val_acc_per_epoch.index(max(val_acc_per_epoch)) + 1\n",
    "print(f'Best epoch: {best_epoch}')"
   ],
   "metadata": {
    "collapsed": false
   }
  },
  {
   "cell_type": "code",
   "execution_count": 77,
   "outputs": [
    {
     "name": "stderr",
     "output_type": "stream",
     "text": [
      "WARNING:absl:Found untraced functions such as _jit_compiled_convolution_op, _jit_compiled_convolution_op, _jit_compiled_convolution_op, _jit_compiled_convolution_op, _jit_compiled_convolution_op while saving (showing 5 of 53). These functions will not be directly callable after loading.\n"
     ]
    },
    {
     "name": "stdout",
     "output_type": "stream",
     "text": [
      "INFO:tensorflow:Assets written to: models/ResNet50V2_Dense256_combined_acc92_nrTrue_step2s_len5s\\assets\n"
     ]
    },
    {
     "name": "stderr",
     "output_type": "stream",
     "text": [
      "INFO:tensorflow:Assets written to: models/ResNet50V2_Dense256_combined_acc92_nrTrue_step2s_len5s\\assets\n"
     ]
    }
   ],
   "source": [
    "model.save(f'models/ResNet50V2_Dense256_combined_acc92_{TAG}')"
   ],
   "metadata": {
    "collapsed": false
   }
  },
  {
   "cell_type": "code",
   "execution_count": 328,
   "outputs": [
    {
     "name": "stdout",
     "output_type": "stream",
     "text": [
      "1/1 [==============================] - 0s 34ms/step\n"
     ]
    }
   ],
   "source": [
    "a = model.predict(np.expand_dims(images[0], axis=0))"
   ],
   "metadata": {
    "collapsed": false
   }
  },
  {
   "cell_type": "code",
   "execution_count": 333,
   "outputs": [
    {
     "name": "stdout",
     "output_type": "stream",
     "text": [
      "3\n",
      "sad\n"
     ]
    }
   ],
   "source": [
    "print(np.argmax(a))\n",
    "print(list(EMOTIONS_MAP.keys())[list(EMOTIONS_MAP.values()).index(np.argmax(a))])"
   ],
   "metadata": {
    "collapsed": false
   }
  },
  {
   "cell_type": "code",
   "execution_count": 334,
   "outputs": [
    {
     "name": "stdout",
     "output_type": "stream",
     "text": [
      "[0. 0. 0. 1. 0. 0. 0.]\n"
     ]
    }
   ],
   "source": [
    "print(labels[0])"
   ],
   "metadata": {
    "collapsed": false
   }
  }
 ],
 "metadata": {
  "kernelspec": {
   "display_name": "Python 3",
   "language": "python",
   "name": "python3"
  },
  "language_info": {
   "codemirror_mode": {
    "name": "ipython",
    "version": 2
   },
   "file_extension": ".py",
   "mimetype": "text/x-python",
   "name": "python",
   "nbconvert_exporter": "python",
   "pygments_lexer": "ipython2",
   "version": "2.7.6"
  }
 },
 "nbformat": 4,
 "nbformat_minor": 0
}
