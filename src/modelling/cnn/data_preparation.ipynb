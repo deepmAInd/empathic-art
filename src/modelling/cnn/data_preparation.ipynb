{
 "cells": [
  {
   "cell_type": "markdown",
   "metadata": {},
   "source": [
    "# Data Preparation"
   ]
  },
  {
   "cell_type": "code",
   "execution_count": 19,
   "metadata": {},
   "outputs": [],
   "source": [
    "import shutil\n",
    "import pathlib\n",
    "import ntpath\n",
    "from glob import glob\n",
    "\n",
    "import numpy as np\n",
    "import pandas as pd\n",
    "\n",
    "import torch\n",
    "import torchaudio\n",
    "import torchaudio.functional as F\n",
    "import torchaudio.transforms as T"
   ]
  },
  {
   "cell_type": "code",
   "execution_count": 3,
   "metadata": {},
   "outputs": [],
   "source": [
    "# define base file path\n",
    "base_filepath = \"../../../data/\"\n",
    "\n",
    "# define the files we are interested in\n",
    "audio_recordings = {\n",
    "    \"vivae\": \"VIVAE\", \n",
    "    \"ravdess\": \"RAVDESS\", \n",
    "    \"tess\": \"utoronto\",\n",
    "}"
   ]
  },
  {
   "cell_type": "code",
   "execution_count": 4,
   "metadata": {},
   "outputs": [],
   "source": [
    "# read the dataframe with data info\n",
    "df = pd.read_csv(f\"{base_filepath}/reference_df.csv\")"
   ]
  },
  {
   "cell_type": "code",
   "execution_count": 5,
   "metadata": {},
   "outputs": [
    {
     "data": {
      "text/html": [
       "<div>\n",
       "<style scoped>\n",
       "    .dataframe tbody tr th:only-of-type {\n",
       "        vertical-align: middle;\n",
       "    }\n",
       "\n",
       "    .dataframe tbody tr th {\n",
       "        vertical-align: top;\n",
       "    }\n",
       "\n",
       "    .dataframe thead th {\n",
       "        text-align: right;\n",
       "    }\n",
       "</style>\n",
       "<table border=\"1\" class=\"dataframe\">\n",
       "  <thead>\n",
       "    <tr style=\"text-align: right;\">\n",
       "      <th></th>\n",
       "      <th>source</th>\n",
       "      <th>dataname</th>\n",
       "      <th>speaker</th>\n",
       "      <th>emotion</th>\n",
       "      <th>intensity</th>\n",
       "      <th>duration</th>\n",
       "      <th>samplerate</th>\n",
       "      <th>gender</th>\n",
       "      <th>statement</th>\n",
       "      <th>filename</th>\n",
       "    </tr>\n",
       "  </thead>\n",
       "  <tbody>\n",
       "    <tr>\n",
       "      <th>0</th>\n",
       "      <td>https://zenodo.org/record/4066235#.Yz_WRNJBwUF</td>\n",
       "      <td>vivae</td>\n",
       "      <td>vivae_S10</td>\n",
       "      <td>achievement</td>\n",
       "      <td>strong</td>\n",
       "      <td>1</td>\n",
       "      <td>44100</td>\n",
       "      <td>NaN</td>\n",
       "      <td>NaN</td>\n",
       "      <td>S10_achievement_strong_01.wav</td>\n",
       "    </tr>\n",
       "    <tr>\n",
       "      <th>1</th>\n",
       "      <td>https://zenodo.org/record/4066235#.Yz_WRNJBwUF</td>\n",
       "      <td>vivae</td>\n",
       "      <td>vivae_S02</td>\n",
       "      <td>pain</td>\n",
       "      <td>strong</td>\n",
       "      <td>1</td>\n",
       "      <td>44100</td>\n",
       "      <td>NaN</td>\n",
       "      <td>NaN</td>\n",
       "      <td>S02_pain_strong_05.wav</td>\n",
       "    </tr>\n",
       "    <tr>\n",
       "      <th>2</th>\n",
       "      <td>https://zenodo.org/record/4066235#.Yz_WRNJBwUF</td>\n",
       "      <td>vivae</td>\n",
       "      <td>vivae_S08</td>\n",
       "      <td>surprise</td>\n",
       "      <td>low</td>\n",
       "      <td>1</td>\n",
       "      <td>44100</td>\n",
       "      <td>NaN</td>\n",
       "      <td>NaN</td>\n",
       "      <td>S08_surprise_low_02.wav</td>\n",
       "    </tr>\n",
       "    <tr>\n",
       "      <th>3</th>\n",
       "      <td>https://zenodo.org/record/4066235#.Yz_WRNJBwUF</td>\n",
       "      <td>vivae</td>\n",
       "      <td>vivae_S05</td>\n",
       "      <td>anger</td>\n",
       "      <td>peak</td>\n",
       "      <td>1</td>\n",
       "      <td>44100</td>\n",
       "      <td>NaN</td>\n",
       "      <td>NaN</td>\n",
       "      <td>S05_anger_peak_02.wav</td>\n",
       "    </tr>\n",
       "    <tr>\n",
       "      <th>4</th>\n",
       "      <td>https://zenodo.org/record/4066235#.Yz_WRNJBwUF</td>\n",
       "      <td>vivae</td>\n",
       "      <td>vivae_S08</td>\n",
       "      <td>anger</td>\n",
       "      <td>moderate</td>\n",
       "      <td>1</td>\n",
       "      <td>44100</td>\n",
       "      <td>NaN</td>\n",
       "      <td>NaN</td>\n",
       "      <td>S08_anger_moderate_07.wav</td>\n",
       "    </tr>\n",
       "  </tbody>\n",
       "</table>\n",
       "</div>"
      ],
      "text/plain": [
       "                                           source dataname    speaker  \\\n",
       "0  https://zenodo.org/record/4066235#.Yz_WRNJBwUF    vivae  vivae_S10   \n",
       "1  https://zenodo.org/record/4066235#.Yz_WRNJBwUF    vivae  vivae_S02   \n",
       "2  https://zenodo.org/record/4066235#.Yz_WRNJBwUF    vivae  vivae_S08   \n",
       "3  https://zenodo.org/record/4066235#.Yz_WRNJBwUF    vivae  vivae_S05   \n",
       "4  https://zenodo.org/record/4066235#.Yz_WRNJBwUF    vivae  vivae_S08   \n",
       "\n",
       "       emotion intensity  duration  samplerate gender statement  \\\n",
       "0  achievement    strong         1       44100    NaN       NaN   \n",
       "1         pain    strong         1       44100    NaN       NaN   \n",
       "2     surprise       low         1       44100    NaN       NaN   \n",
       "3        anger      peak         1       44100    NaN       NaN   \n",
       "4        anger  moderate         1       44100    NaN       NaN   \n",
       "\n",
       "                        filename  \n",
       "0  S10_achievement_strong_01.wav  \n",
       "1         S02_pain_strong_05.wav  \n",
       "2        S08_surprise_low_02.wav  \n",
       "3          S05_anger_peak_02.wav  \n",
       "4      S08_anger_moderate_07.wav  "
      ]
     },
     "execution_count": 5,
     "metadata": {},
     "output_type": "execute_result"
    }
   ],
   "source": [
    "df.head()"
   ]
  },
  {
   "cell_type": "code",
   "execution_count": 6,
   "metadata": {},
   "outputs": [],
   "source": [
    "pathlib.Path(\"../../../data/soundfiles\").mkdir(exist_ok=True)"
   ]
  },
  {
   "cell_type": "code",
   "execution_count": null,
   "metadata": {},
   "outputs": [],
   "source": [
    "for filename in df[df[\"dataname\"] == \"vivae\"].filename:\n",
    "    shutil.copy(\n",
    "        src=f\"../../../data/VIVAE/core_set/{filename}\",\n",
    "        dst=f\"../../../data/soundfiles/{filename}\",\n",
    "    )"
   ]
  },
  {
   "cell_type": "code",
   "execution_count": 10,
   "metadata": {},
   "outputs": [],
   "source": [
    "for filename in df[df[\"dataname\"] == \"tess\"].filename:\n",
    "    shutil.copy(\n",
    "        src=f\"../../../data/utoronto/data/{filename}\",\n",
    "        dst=f\"../../../data/soundfiles/{filename}\",\n",
    "    )"
   ]
  },
  {
   "cell_type": "code",
   "execution_count": 20,
   "metadata": {},
   "outputs": [],
   "source": [
    "def get_filename(filepath: str = '') -> str:\n",
    "    # split the file path into the path and filename\n",
    "    head, tail = ntpath.split(filepath)\n",
    "    return tail or ntpath.basename(head)"
   ]
  },
  {
   "cell_type": "code",
   "execution_count": 21,
   "metadata": {},
   "outputs": [],
   "source": [
    "for filepath in glob(\"../../../data/RAVDESS/Audio_Speech_Actors/**/*.wav\"):\n",
    "    filename = get_filename(filepath=filepath)\n",
    "    shutil.copy(\n",
    "        src=filepath,\n",
    "        dst=f\"../../../data/soundfiles/{filename}\",\n",
    "    )"
   ]
  },
  {
   "cell_type": "code",
   "execution_count": null,
   "metadata": {},
   "outputs": [],
   "source": []
  }
 ],
 "metadata": {
  "kernelspec": {
   "display_name": "Python 3.10.6 ('empathic-art-VdJ2KSTr')",
   "language": "python",
   "name": "python3"
  },
  "language_info": {
   "codemirror_mode": {
    "name": "ipython",
    "version": 3
   },
   "file_extension": ".py",
   "mimetype": "text/x-python",
   "name": "python",
   "nbconvert_exporter": "python",
   "pygments_lexer": "ipython3",
   "version": "3.10.6"
  },
  "orig_nbformat": 4,
  "vscode": {
   "interpreter": {
    "hash": "e50c87813b58f42c33168ff8a825bf8dc8f12ff2146cb51a790b6579912f82a5"
   }
  }
 },
 "nbformat": 4,
 "nbformat_minor": 2
}
